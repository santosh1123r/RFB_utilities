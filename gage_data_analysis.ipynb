{
 "cells": [
  {
   "cell_type": "code",
   "execution_count": 6,
   "id": "2fddf613",
   "metadata": {},
   "outputs": [],
   "source": [
    "\n",
    "import pandas as pd\n",
    "import os\n",
    "import pandas as pd\n",
    "from datetime import datetime\n",
    "\n",
    "def find_relevant_files(folder_path, text1):\n",
    "    relevant_files = []\n",
    "    for file_name in os.listdir(folder_path):\n",
    "        if text1 in file_name:\n",
    "            relevant_files.append(file_name)\n",
    "    return relevant_files\n",
    "\n",
    "\n",
    "folder_path = r'C:\\work_folder\\RFB2\\Catheter_testing\\20250905_f28p_height'\n",
    "# read summary csv files\n",
    "text1= '.csv'\n",
    "text2= '_octiv'\n",
    "text3= 'rfb'\n",
    "csvfiles= find_relevant_files(folder_path, text1)\n"
   ]
  },
  {
   "cell_type": "code",
   "execution_count": null,
   "id": "2c42540f",
   "metadata": {},
   "outputs": [
    {
     "name": "stdout",
     "output_type": "stream",
     "text": [
      "('24560', 'Brush', 2.43)\n"
     ]
    }
   ],
   "source": [
    "def parse_file_name(file_name):\n",
    "    SN = file_name[0:5]\n",
    "    # target = \"Brush\" if \"BRUSH\" in file_name.upper() else \"F28P\"\n",
    "    target = \"Brush\"\n",
    "    if '1p' in file_name:\n",
    "        Ht = 2.50\n",
    "    elif '2p' in file_name:\n",
    "        Ht = 2.56\n",
    "    elif '3p' in file_name:\n",
    "        Ht = 2.62\n",
    "    else:\n",
    "        Ht = 2.43  # default height\n",
    "    #if \"brush\" in file_name:\n",
    "    #    target= \"Brush\"\n",
    "    #elif \"F28P\" in file_name:\n",
    "    #    target= \"F28P\"\n",
    "    return SN, target, Ht\n",
    "\n",
    "testfile = '24560rF28P.csv'\n",
    "[SN, target, ht] = parse_file_name(testfile)\n",
    "print(parse_file_name(testfile))\n",
    "\n"
   ]
  },
  {
   "cell_type": "code",
   "execution_count": 8,
   "id": "283b8027",
   "metadata": {},
   "outputs": [
    {
     "name": "stdout",
     "output_type": "stream",
     "text": [
      "2025-09-05 15:13:55\n"
     ]
    }
   ],
   "source": [
    "def get_file_creation_date(file_path):\n",
    "    creation_time = os.path.getctime(file_path)\n",
    "    creation_date = datetime.fromtimestamp(creation_time).strftime('%Y-%m-%d %H:%M:%S')\n",
    "    return creation_date\n",
    "\n",
    "fp= r'C:\\work_folder\\RFB2\\Catheter_testing\\20250905_f28p_height'\n",
    "dt= get_file_creation_date(fp)\n",
    "print(dt)"
   ]
  },
  {
   "cell_type": "code",
   "execution_count": null,
   "id": "dc70f4e5",
   "metadata": {},
   "outputs": [
    {
     "name": "stdout",
     "output_type": "stream",
     "text": [
      "18383brush.csv\n",
      "Value in 2nd column of line 14:  3.310000e+01\n",
      "18383brush2.csv\n",
      "Value in 2nd column of line 14:  3.280000e+01\n",
      "18383brush3.csv\n",
      "Value in 2nd column of line 14:  3.220000e+01\n",
      "18383f28p.csv\n",
      "Value in 2nd column of line 14:  3.390000e+01\n",
      "18383f28p2.csv\n",
      "Value in 2nd column of line 14:  3.310000e+01\n",
      "output.csv\n"
     ]
    },
    {
     "ename": "IndexError",
     "evalue": "list index out of range",
     "output_type": "error",
     "traceback": [
      "\u001b[1;31m---------------------------------------------------------------------------\u001b[0m",
      "\u001b[1;31mIndexError\u001b[0m                                Traceback (most recent call last)",
      "Cell \u001b[1;32mIn[9], line 54\u001b[0m\n\u001b[0;32m     52\u001b[0m text2\u001b[38;5;241m=\u001b[39m \u001b[38;5;124m'\u001b[39m\u001b[38;5;124m_octiv\u001b[39m\u001b[38;5;124m'\u001b[39m\n\u001b[0;32m     53\u001b[0m text3\u001b[38;5;241m=\u001b[39m \u001b[38;5;124m'\u001b[39m\u001b[38;5;124mrfb\u001b[39m\u001b[38;5;124m'\u001b[39m\n\u001b[1;32m---> 54\u001b[0m summary_df\u001b[38;5;241m=\u001b[39m read_and_store_data(folder_path, text1)\n",
      "Cell \u001b[1;32mIn[9], line 27\u001b[0m, in \u001b[0;36mread_and_store_data\u001b[1;34m(folder_path, text1)\u001b[0m\n\u001b[0;32m     24\u001b[0m file_path \u001b[38;5;241m=\u001b[39m os\u001b[38;5;241m.\u001b[39mpath\u001b[38;5;241m.\u001b[39mjoin(folder_path, file_name)\n\u001b[0;32m     26\u001b[0m \u001b[38;5;66;03m# Read Peak Power\u001b[39;00m\n\u001b[1;32m---> 27\u001b[0m peak_pow\u001b[38;5;241m=\u001b[39m get_peak_pow(file_path)\n\u001b[0;32m     29\u001b[0m \u001b[38;5;66;03m# Get SN, target, and date of file creation from file name\u001b[39;00m\n\u001b[0;32m     30\u001b[0m SN, target, Ht \u001b[38;5;241m=\u001b[39m parse_file_name(file_name)\n",
      "Cell \u001b[1;32mIn[9], line 6\u001b[0m, in \u001b[0;36mget_peak_pow\u001b[1;34m(fpath)\u001b[0m\n\u001b[0;32m      4\u001b[0m \u001b[38;5;28;01mwith\u001b[39;00m \u001b[38;5;28mopen\u001b[39m(fpath, \u001b[38;5;124m'\u001b[39m\u001b[38;5;124mr\u001b[39m\u001b[38;5;124m'\u001b[39m) \u001b[38;5;28;01mas\u001b[39;00m file:\n\u001b[0;32m      5\u001b[0m     lines \u001b[38;5;241m=\u001b[39m file\u001b[38;5;241m.\u001b[39mreadlines()\n\u001b[1;32m----> 6\u001b[0m     line_14 \u001b[38;5;241m=\u001b[39m lines[\u001b[38;5;241m13\u001b[39m]  \u001b[38;5;66;03m# Line 14 is at index 13\u001b[39;00m\n\u001b[0;32m      8\u001b[0m \u001b[38;5;66;03m# Split the line by comma to get columns\u001b[39;00m\n\u001b[0;32m      9\u001b[0m columns \u001b[38;5;241m=\u001b[39m line_14\u001b[38;5;241m.\u001b[39mstrip()\u001b[38;5;241m.\u001b[39msplit(\u001b[38;5;124m'\u001b[39m\u001b[38;5;124m,\u001b[39m\u001b[38;5;124m'\u001b[39m)\n",
      "\u001b[1;31mIndexError\u001b[0m: list index out of range"
     ]
    }
   ],
   "source": [
    "def get_peak_pow(fpath):\n",
    "    \n",
    "    # Open the file and read line 14 (index 13)\n",
    "    with open(fpath, 'r') as file:\n",
    "        lines = file.readlines()\n",
    "        line_14 = lines[13]  # Line 14 is at index 13\n",
    "\n",
    "    # Split the line by comma to get columns\n",
    "    columns = line_14.strip().split(',')\n",
    "\n",
    "    # Get the 2nd column (index 1)\n",
    "    aa = columns[1]\n",
    "\n",
    "    print(\"Value in 2nd column of line 14:\", aa)\n",
    "    return aa\n",
    "\n",
    "\n",
    "def read_and_store_data(folder_path, text1):\n",
    "    all_data = []\n",
    "    relevant_files = find_relevant_files(folder_path, text1)\n",
    "    \n",
    "    for file_name in relevant_files:\n",
    "        print(file_name)\n",
    "        file_path = os.path.join(folder_path, file_name)\n",
    "\n",
    "        # Read Peak Power\n",
    "        peak_pow= get_peak_pow(file_path)\n",
    "\n",
    "        # Get SN, target, and date of file creation from file name\n",
    "        SN, target, Ht = parse_file_name(file_name)\n",
    "        creation_date = get_file_creation_date(file_path)\n",
    "        \n",
    "        # Add all these to a dataframe\n",
    "        df = pd.DataFrame({\n",
    "            'SN': [SN],\n",
    "            'target': [target],\n",
    "            'DoF': [creation_date],\n",
    "            'Ht': [Ht],\n",
    "            'peak_pow': [peak_pow]\n",
    "        })\n",
    "\n",
    "        \n",
    "        all_data.append(df)\n",
    "    \n",
    "    # Combine all data into a single DataFrame\n",
    "    combined_df = pd.concat(all_data, ignore_index=True)\n",
    "    return combined_df\n",
    "\n",
    "folder_path = r'C:\\work_folder\\RFB2\\Catheter_testing\\20250905_f28p_height'\n",
    "# read summary csv files\n",
    "text1= '.csv'\n",
    "text2= '_octiv'\n",
    "text3= 'rfb'\n",
    "summary_df= read_and_store_data(folder_path, text1)"
   ]
  },
  {
   "cell_type": "code",
   "execution_count": 5,
   "id": "bdd2e556",
   "metadata": {},
   "outputs": [
    {
     "name": "stderr",
     "output_type": "stream",
     "text": [
      "<>:1: SyntaxWarning: invalid escape sequence '\\o'\n",
      "<>:1: SyntaxWarning: invalid escape sequence '\\o'\n",
      "C:\\Users\\Santosh.Behera\\AppData\\Local\\Temp\\ipykernel_33528\\4031658145.py:1: SyntaxWarning: invalid escape sequence '\\o'\n",
      "  writepath= folder_path + '\\output.csv'\n"
     ]
    }
   ],
   "source": [
    "writepath= folder_path + '\\output.csv'\n",
    "summary_df.to_csv(writepath)"
   ]
  },
  {
   "cell_type": "code",
   "execution_count": null,
   "id": "8adfd1d4",
   "metadata": {},
   "outputs": [],
   "source": [
    "summary_df[\"sample_repeat_no\"].unique()"
   ]
  },
  {
   "cell_type": "code",
   "execution_count": null,
   "id": "61318c6c",
   "metadata": {},
   "outputs": [],
   "source": [
    "import tkinter as tk\n",
    "from tkinter import ttk\n",
    "import matplotlib.pyplot as plt\n",
    "from matplotlib.backends.backend_tkagg import FigureCanvasTkAgg\n",
    "\n",
    "def create_gui(data):\n",
    "    def plot_sensor_data(sensor, parse_by):\n",
    "        fig, ax = plt.subplots()\n",
    "        if parse_by == 'test':\n",
    "            for test in data['test_no'].unique():\n",
    "                test_data = data[data['test_no'] == test]\n",
    "                ax.scatter( test_data['test_no'], test_data[sensor], label=f'Test {test}')\n",
    "            ax.boxplot([data[data['test_no'] == test][sensor] for test in data['test_no'].unique()], positions=range(len(data['test_no'].unique())))\n",
    "        elif parse_by == 'operator':\n",
    "            for operator in data['operator_no'].unique():\n",
    "                operator_data = data[data['operator_no'] == operator]\n",
    "                ax.scatter(operator_data['operator_no'], operator_data[sensor], label=f'Operator {operator}')\n",
    "            ax.boxplot([data[data['operator_no'] == operator][sensor] for operator in data['operator_no'].unique()], positions=range(len(data['operator_no'].unique())))\n",
    "        \n",
    "        ax.set_xlabel(parse_by)\n",
    "        ax.set_ylabel(sensor)\n",
    "        ax.legend()\n",
    "        canvas = FigureCanvasTkAgg(fig, master=window)\n",
    "        canvas.draw()\n",
    "        canvas.get_tk_widget().pack()\n",
    "\n",
    "    window = tk.Tk()\n",
    "    window.title(\"Sensor Data Plotter\")\n",
    "\n",
    "    sensor_label = tk.Label(window, text=\"Select Attribute to plot:\")\n",
    "    sensor_label.pack()\n",
    "    sensor_var = tk.StringVar()\n",
    "    sensor_dropdown = ttk.Combobox(window, textvariable=sensor_var)\n",
    "    sensor_dropdown['values'] = ['Ewatts', 'Awatts', 'Eff', 'PWatts', 'G3Eff', 'Real', 'Img', 'Freq']\n",
    "    sensor_dropdown.pack()\n",
    "\n",
    "    parse_by_label = tk.Label(window, text=\"Parse By:\")\n",
    "    parse_by_label.pack()\n",
    "    parse_by_var = tk.StringVar()\n",
    "    parse_by_dropdown = ttk.Combobox(window, textvariable=parse_by_var)\n",
    "    parse_by_dropdown['values'] = ['test', 'operator']\n",
    "    parse_by_dropdown.pack()\n",
    "\n",
    "    plot_button = tk.Button(window, text=\"Plot\", command=lambda: plot_sensor_data(sensor_var.get(), parse_by_var.get()))\n",
    "    plot_button.pack()\n",
    "\n",
    "    window.mainloop()\n",
    "\n",
    "# Example usage\n",
    "create_gui(summary_df)\n",
    "\n"
   ]
  },
  {
   "cell_type": "code",
   "execution_count": null,
   "id": "e5dc7170",
   "metadata": {},
   "outputs": [],
   "source": [
    "import tkinter as tk\n",
    "from tkinter import ttk\n",
    "import matplotlib.pyplot as plt\n",
    "from matplotlib.backends.backend_tkagg import FigureCanvasTkAgg\n",
    "import numpy as np\n",
    "\n",
    "def create_gui2(data):\n",
    "    def plot_sensor_data(sensor, parse_by, color_by):\n",
    "        fig, ax = plt.subplots()\n",
    "        unique_values = data[parse_by].unique()\n",
    "        colors = plt.cm.rainbow(np.linspace(0, 1, len(unique_values)))\n",
    "        \n",
    "        for i, value in enumerate(unique_values):\n",
    "            subset = data[data[parse_by] == value]\n",
    "            scatter = ax.scatter(subset[parse_by], subset[sensor], label=f'{parse_by} {value}', color=colors[i])\n",
    "            ax.boxplot([subset[subset[parse_by] == value][sensor] for value in unique_values], positions=range(len(unique_values)))\n",
    "        \n",
    "        if color_by:\n",
    "            scatter.set_array(data[color_by].astype('category').cat.codes)\n",
    "            plt.colorbar(scatter, ax=ax, label=color_by)\n",
    "        \n",
    "        ax.set_ylabel(sensor)\n",
    "        ax.set_xlabel(parse_by)\n",
    "        ax.legend()\n",
    "        canvas = FigureCanvasTkAgg(fig, master=window)\n",
    "        canvas.draw()\n",
    "        canvas.get_tk_widget().pack()\n",
    "\n",
    "    window = tk.Tk()\n",
    "    window.title(\"Sensor Data Plotter\")\n",
    "\n",
    "    sensor_label = tk.Label(window, text=\"Select Sensor:\")\n",
    "    sensor_label.pack()\n",
    "    sensor_var = tk.StringVar()\n",
    "    sensor_dropdown = ttk.Combobox(window, textvariable=sensor_var)\n",
    "    sensor_dropdown['values'] = ['Ewatts', 'Awatts', 'Eff', 'PWatts', 'G3Eff', 'Real', 'Img', 'Freq']\n",
    "    sensor_dropdown.pack()\n",
    "\n",
    "    parse_by_label = tk.Label(window, text=\"Parse By:\")\n",
    "    parse_by_label.pack()\n",
    "    parse_by_var = tk.StringVar()\n",
    "    parse_by_dropdown = ttk.Combobox(window, textvariable=parse_by_var)\n",
    "    parse_by_dropdown['values'] = ['test_no', 'operator_no', 'target_type', 'sample_repeat_no']\n",
    "    parse_by_dropdown.pack()\n",
    "\n",
    "    color_by_label = tk.Label(window, text=\"Color By:\")\n",
    "    color_by_label.pack()\n",
    "    color_by_var = tk.StringVar()\n",
    "    color_by_dropdown = ttk.Combobox(window, textvariable=color_by_var)\n",
    "    color_by_dropdown['values'] = ['SN', 'target_type', 'operator_no', 'test_no']\n",
    "    color_by_dropdown.pack()\n",
    "\n",
    "    plot_button = tk.Button(window, text=\"Plot\", command=lambda: plot_sensor_data(sensor_var.get(), parse_by_var.get(), color_by_var.get()))\n",
    "    plot_button.pack()\n",
    "\n",
    "    window.mainloop()\n",
    "\n",
    "\n"
   ]
  },
  {
   "cell_type": "code",
   "execution_count": null,
   "id": "884ca48c",
   "metadata": {},
   "outputs": [],
   "source": [
    "summary_df= summary_df[summary_df[\"Eff\"]>60]\n",
    "create_gui2(summary_df)"
   ]
  },
  {
   "cell_type": "code",
   "execution_count": null,
   "id": "d670ee28",
   "metadata": {},
   "outputs": [],
   "source": [
    "summary_df[\"SN\"].unique()"
   ]
  },
  {
   "cell_type": "code",
   "execution_count": null,
   "id": "ef48ce82",
   "metadata": {},
   "outputs": [],
   "source": [
    "summary_df.head"
   ]
  },
  {
   "cell_type": "code",
   "execution_count": null,
   "id": "740e17d6",
   "metadata": {},
   "outputs": [],
   "source": [
    "summary_df.to_csv(\"writepath\")"
   ]
  },
  {
   "cell_type": "code",
   "execution_count": null,
   "id": "87f1efd4",
   "metadata": {},
   "outputs": [],
   "source": [
    "df1= pd.read_csv('writepath')\n",
    "df1.head"
   ]
  },
  {
   "cell_type": "code",
   "execution_count": null,
   "id": "f626064c",
   "metadata": {},
   "outputs": [],
   "source": [
    "writepath"
   ]
  },
  {
   "cell_type": "code",
   "execution_count": null,
   "id": "557d8a05",
   "metadata": {},
   "outputs": [],
   "source": [
    "writepath= r'C:\\work_folder\\Misc_codes\\prelim_gage\\Data\\output.csv'\n",
    "summary_df.to_csv(writepath)"
   ]
  },
  {
   "cell_type": "code",
   "execution_count": null,
   "id": "2ea48605",
   "metadata": {},
   "outputs": [],
   "source": [
    "writepath"
   ]
  },
  {
   "cell_type": "code",
   "execution_count": null,
   "id": "1c94a1c2",
   "metadata": {},
   "outputs": [],
   "source": [
    "df1= pd.read_csv('writepath')"
   ]
  },
  {
   "cell_type": "code",
   "execution_count": null,
   "id": "68d814c1",
   "metadata": {},
   "outputs": [],
   "source": []
  }
 ],
 "metadata": {
  "kernelspec": {
   "display_name": "SB_Ops",
   "language": "python",
   "name": "python3"
  },
  "language_info": {
   "codemirror_mode": {
    "name": "ipython",
    "version": 3
   },
   "file_extension": ".py",
   "mimetype": "text/x-python",
   "name": "python",
   "nbconvert_exporter": "python",
   "pygments_lexer": "ipython3",
   "version": "3.12.9"
  }
 },
 "nbformat": 4,
 "nbformat_minor": 5
}
