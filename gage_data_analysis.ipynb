{
 "cells": [
  {
   "cell_type": "code",
   "execution_count": 3,
   "id": "2fddf613",
   "metadata": {},
   "outputs": [],
   "source": [
    "\n",
    "import pandas as pd\n",
    "import os\n",
    "import pandas as pd\n",
    "from datetime import datetime\n",
    "\n",
    "# This function finds files in a given folder that contain a specific substring in their names.\n",
    "def find_relevant_files(folder_path, text1):\n",
    "    relevant_files = []\n",
    "    for file_name in os.listdir(folder_path):\n",
    "        if text1 in file_name:\n",
    "            relevant_files.append(file_name)\n",
    "    return relevant_files\n",
    "# *******************  END Function  *************************\n",
    "\n",
    "# This function gets test information from file name\n",
    "# In this case it extracts the serial number, target, and height\n",
    "def parse_file_name(file_name):\n",
    "    SN = file_name[0:5]\n",
    "    # target = \"Brush\" if \"BRUSH\" in file_name.upper() else \"F28P\"\n",
    "    target = \"Brush\"\n",
    "    if '1p' in file_name:\n",
    "        Ht = 2.50\n",
    "    elif '2p' in file_name:\n",
    "        Ht = 2.56\n",
    "    elif '3p' in file_name:\n",
    "        Ht = 2.62\n",
    "    else:\n",
    "        Ht = 2.43  # default height\n",
    "    #if \"brush\" in file_name:\n",
    "    #    target= \"Brush\"\n",
    "    #elif \"F28P\" in file_name:\n",
    "    #    target= \"F28P\"\n",
    "    return SN, target, Ht\n",
    "# *******************  END Function  *************************\n",
    "\n",
    "\n",
    "\n",
    "# This function gets the creation date of a file and formats it as 'YYYY-MM-DD HH:MM:SS'\n",
    "def get_file_creation_date(file_path):\n",
    "    creation_time = os.path.getctime(file_path)\n",
    "    creation_date = datetime.fromtimestamp(creation_time).strftime('%Y-%m-%d %H:%M:%S')\n",
    "    return creation_date\n",
    "# *******************  END Function  *************************\n",
    "\n",
    "\n"
   ]
  },
  {
   "cell_type": "code",
   "execution_count": 4,
   "id": "2c42540f",
   "metadata": {},
   "outputs": [
    {
     "name": "stdout",
     "output_type": "stream",
     "text": [
      "19316.csv\n",
      "Value in 2nd column of line 14:  3.520000e+01\n",
      "19316w1p.csv\n",
      "Value in 2nd column of line 14:  3.490000e+01\n",
      "19316w2p.csv\n",
      "Value in 2nd column of line 14:  3.460000e+01\n",
      "19316w3p.csv\n",
      "Value in 2nd column of line 14:  3.430000e+01\n",
      "23890.csv\n",
      "Value in 2nd column of line 14:  3.440000e+01\n",
      "238901p.csv\n",
      "Value in 2nd column of line 14:  3.410000e+01\n",
      "23890w2p.csv\n",
      "Value in 2nd column of line 14:  3.370000e+01\n",
      "23890w3p.csv\n",
      "Value in 2nd column of line 14:  3.370000e+01\n",
      "24603.csv\n",
      "Value in 2nd column of line 14:  3.650000e+01\n",
      "24603w1p.csv\n",
      "Value in 2nd column of line 14:  36\n",
      "24603w2p.csv\n",
      "Value in 2nd column of line 14:  3.570000e+01\n",
      "24603w3p.csv\n",
      "Value in 2nd column of line 14:  3.520000e+01\n"
     ]
    },
    {
     "name": "stderr",
     "output_type": "stream",
     "text": [
      "<>:57: SyntaxWarning: invalid escape sequence '\\o'\n",
      "<>:57: SyntaxWarning: invalid escape sequence '\\o'\n",
      "C:\\Users\\Santosh.Behera\\AppData\\Local\\Temp\\ipykernel_12440\\1492457581.py:57: SyntaxWarning: invalid escape sequence '\\o'\n",
      "  writepath= folder_path + '\\output.csv'\n"
     ]
    }
   ],
   "source": [
    "# This function reads the Peak power from cather testing: \n",
    "# In this case, 14th line in the 2nd column\n",
    "def get_peak_pow(fpath):\n",
    "    \n",
    "    # Open the file and read line 14 (index 13)\n",
    "    with open(fpath, 'r') as file:\n",
    "        lines = file.readlines()\n",
    "        line_14 = lines[13]  # Line 14 is at index 13\n",
    "\n",
    "    # Split the line by comma to get columns\n",
    "    columns = line_14.strip().split(',')\n",
    "\n",
    "    # Get the 2nd column (index 1)\n",
    "    aa = columns[1]\n",
    "\n",
    "    print(\"Value in 2nd column of line 14:\", aa)\n",
    "    return aa\n",
    "# *******************  END Function  *************************\n",
    "\n",
    "# This function combines previous functions, gets data from all files and saves it in a summary csv file\n",
    "def read_and_store_data(folder_path, text1):\n",
    "    all_data = []\n",
    "    relevant_files = find_relevant_files(folder_path, text1)\n",
    "    \n",
    "    for file_name in relevant_files:\n",
    "        print(file_name)\n",
    "        file_path = os.path.join(folder_path, file_name)\n",
    "\n",
    "        # Read Peak Power\n",
    "        peak_pow= get_peak_pow(file_path)\n",
    "\n",
    "        # Get SN, target, and date of file creation from file name\n",
    "        SN, target, Ht = parse_file_name(file_name)\n",
    "        creation_date = get_file_creation_date(file_path)\n",
    "        \n",
    "        # Add all these to a dataframe\n",
    "        df = pd.DataFrame({\n",
    "            'SN': [SN],\n",
    "            'target': [target],\n",
    "            'DoF': [creation_date],\n",
    "            'Ht': [Ht],\n",
    "            'peak_pow': [peak_pow]\n",
    "        })\n",
    "\n",
    "        \n",
    "        all_data.append(df)\n",
    "    \n",
    "    # Combine all data into a single DataFrame\n",
    "    combined_df = pd.concat(all_data, ignore_index=True)\n",
    "    return combined_df\n",
    "# *******************  END Function  *************************\n",
    "\n",
    "folder_path = r'C:\\work_folder\\RFB2\\Catheter_testing\\20250904_IQC_Brush'\n",
    "# read summary csv files\n",
    "text1= '.csv'\n",
    "summary_df= read_and_store_data(folder_path, text1)\n",
    "writepath= folder_path + '\\output.csv'\n",
    "summary_df.to_csv(writepath)"
   ]
  },
  {
   "cell_type": "code",
   "execution_count": null,
   "id": "283b8027",
   "metadata": {},
   "outputs": [
    {
     "name": "stdout",
     "output_type": "stream",
     "text": [
      "2025-09-05 15:13:55\n"
     ]
    }
   ],
   "source": []
  },
  {
   "cell_type": "code",
   "execution_count": null,
   "id": "dc70f4e5",
   "metadata": {},
   "outputs": [
    {
     "name": "stdout",
     "output_type": "stream",
     "text": [
      "23690.csv\n",
      "Value in 2nd column of line 14:  3.530000e+01\n",
      "23690w1p.csv\n",
      "Value in 2nd column of line 14:  35\n",
      "23690w2p.csv\n",
      "Value in 2nd column of line 14:  3.460000e+01\n",
      "23690w3p.csv\n",
      "Value in 2nd column of line 14:  3.420000e+01\n",
      "24603.csv\n",
      "Value in 2nd column of line 14:  3.760000e+01\n",
      "24603w1p.csv\n",
      "Value in 2nd column of line 14:  3.710000e+01\n",
      "24603w2p.csv\n",
      "Value in 2nd column of line 14:  3.670000e+01\n",
      "24603w3p.csv\n",
      "Value in 2nd column of line 14:  3.620000e+01\n"
     ]
    }
   ],
   "source": []
  },
  {
   "cell_type": "code",
   "execution_count": null,
   "id": "bdd2e556",
   "metadata": {},
   "outputs": [
    {
     "name": "stderr",
     "output_type": "stream",
     "text": [
      "<>:1: SyntaxWarning: invalid escape sequence '\\o'\n",
      "<>:1: SyntaxWarning: invalid escape sequence '\\o'\n",
      "C:\\Users\\Santosh.Behera\\AppData\\Local\\Temp\\ipykernel_33528\\4031658145.py:1: SyntaxWarning: invalid escape sequence '\\o'\n",
      "  writepath= folder_path + '\\output.csv'\n"
     ]
    }
   ],
   "source": []
  },
  {
   "cell_type": "code",
   "execution_count": null,
   "id": "8adfd1d4",
   "metadata": {},
   "outputs": [],
   "source": [
    "summary_df[\"sample_repeat_no\"].unique()"
   ]
  },
  {
   "cell_type": "code",
   "execution_count": null,
   "id": "61318c6c",
   "metadata": {},
   "outputs": [],
   "source": [
    "\n"
   ]
  },
  {
   "cell_type": "code",
   "execution_count": null,
   "id": "e5dc7170",
   "metadata": {},
   "outputs": [],
   "source": [
    "\n"
   ]
  },
  {
   "cell_type": "code",
   "execution_count": null,
   "id": "884ca48c",
   "metadata": {},
   "outputs": [],
   "source": [
    "summary_df= summary_df[summary_df[\"Eff\"]>60]\n",
    "create_gui2(summary_df)"
   ]
  },
  {
   "cell_type": "code",
   "execution_count": null,
   "id": "d670ee28",
   "metadata": {},
   "outputs": [],
   "source": [
    "summary_df[\"SN\"].unique()"
   ]
  },
  {
   "cell_type": "code",
   "execution_count": null,
   "id": "ef48ce82",
   "metadata": {},
   "outputs": [],
   "source": [
    "summary_df.head"
   ]
  },
  {
   "cell_type": "code",
   "execution_count": null,
   "id": "740e17d6",
   "metadata": {},
   "outputs": [],
   "source": [
    "summary_df.to_csv(\"writepath\")"
   ]
  },
  {
   "cell_type": "code",
   "execution_count": null,
   "id": "87f1efd4",
   "metadata": {},
   "outputs": [],
   "source": [
    "df1= pd.read_csv('writepath')\n",
    "df1.head"
   ]
  },
  {
   "cell_type": "code",
   "execution_count": null,
   "id": "f626064c",
   "metadata": {},
   "outputs": [],
   "source": [
    "writepath"
   ]
  },
  {
   "cell_type": "code",
   "execution_count": null,
   "id": "557d8a05",
   "metadata": {},
   "outputs": [],
   "source": [
    "writepath= r'C:\\work_folder\\Misc_codes\\prelim_gage\\Data\\output.csv'\n",
    "summary_df.to_csv(writepath)"
   ]
  },
  {
   "cell_type": "code",
   "execution_count": null,
   "id": "2ea48605",
   "metadata": {},
   "outputs": [],
   "source": []
  },
  {
   "cell_type": "code",
   "execution_count": null,
   "id": "1c94a1c2",
   "metadata": {},
   "outputs": [],
   "source": []
  },
  {
   "cell_type": "code",
   "execution_count": null,
   "id": "68d814c1",
   "metadata": {},
   "outputs": [],
   "source": []
  }
 ],
 "metadata": {
  "kernelspec": {
   "display_name": "SB_Ops",
   "language": "python",
   "name": "python3"
  },
  "language_info": {
   "codemirror_mode": {
    "name": "ipython",
    "version": 3
   },
   "file_extension": ".py",
   "mimetype": "text/x-python",
   "name": "python",
   "nbconvert_exporter": "python",
   "pygments_lexer": "ipython3",
   "version": "3.12.9"
  }
 },
 "nbformat": 4,
 "nbformat_minor": 5
}
