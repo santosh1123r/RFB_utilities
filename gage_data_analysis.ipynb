{
 "cells": [
  {
   "cell_type": "code",
   "execution_count": 15,
   "id": "2fddf613",
   "metadata": {},
   "outputs": [],
   "source": [
    "\n",
    "import pandas as pd\n",
    "import os\n",
    "import pandas as pd\n",
    "from datetime import datetime\n",
    "\n",
    "def find_relevant_files(folder_path, text1):\n",
    "    relevant_files = []\n",
    "    for file_name in os.listdir(folder_path):\n",
    "        if text1 in file_name:\n",
    "            relevant_files.append(file_name)\n",
    "    return relevant_files\n",
    "\n",
    "\n",
    "folder_path = r'C:\\work_folder\\RFB2\\Catheter_testing\\Catheter_testing_Brush_F28P'\n",
    "# read summary csv files\n",
    "text1= '.csv'\n",
    "text2= '_octiv'\n",
    "text3= 'rfb'\n",
    "csvfiles= find_relevant_files(folder_path, text1)\n"
   ]
  },
  {
   "cell_type": "code",
   "execution_count": 16,
   "id": "2c42540f",
   "metadata": {},
   "outputs": [
    {
     "name": "stdout",
     "output_type": "stream",
     "text": [
      "('24560', 'F28P')\n"
     ]
    }
   ],
   "source": [
    "def parse_file_name(file_name):\n",
    "    SN= file_name[0:5]\n",
    "    target= \"Brush\" if \"brush\" in file_name.upper() else \"F28P\"\n",
    "    #if \"brush\" in file_name:\n",
    "    #    target= \"Brush\"\n",
    "    #elif \"F28P\" in file_name:\n",
    "    #    target= \"F28P\"\n",
    "    return SN, target\n",
    "testfile= '24560rF28P.csv'\n",
    "[SN, target] = parse_file_name(testfile)\n",
    "print(parse_file_name(testfile))\n",
    "\n"
   ]
  },
  {
   "cell_type": "code",
   "execution_count": 17,
   "id": "283b8027",
   "metadata": {},
   "outputs": [
    {
     "name": "stdout",
     "output_type": "stream",
     "text": [
      "2025-08-26 09:37:33\n"
     ]
    }
   ],
   "source": [
    "def get_file_creation_date(file_path):\n",
    "    creation_time = os.path.getctime(file_path)\n",
    "    creation_date = datetime.fromtimestamp(creation_time).strftime('%Y-%m-%d %H:%M:%S')\n",
    "    return creation_date\n",
    "\n",
    "fp= r'C:\\work_folder\\RFB2\\Catheter_testing\\Catheter_testing_Brush_F28P\\18385rbrush.csv'\n",
    "dt= get_file_creation_date(fp)\n",
    "print(dt)"
   ]
  },
  {
   "cell_type": "code",
   "execution_count": null,
   "id": "dc70f4e5",
   "metadata": {},
   "outputs": [
    {
     "ename": "ParserError",
     "evalue": "Error tokenizing data. C error: Expected 2 fields in line 18, saw 4\n",
     "output_type": "error",
     "traceback": [
      "\u001b[1;31m---------------------------------------------------------------------------\u001b[0m",
      "\u001b[1;31mParserError\u001b[0m                               Traceback (most recent call last)",
      "Cell \u001b[1;32mIn[19], line 27\u001b[0m\n\u001b[0;32m     25\u001b[0m text2\u001b[38;5;241m=\u001b[39m \u001b[38;5;124m'\u001b[39m\u001b[38;5;124m_octiv\u001b[39m\u001b[38;5;124m'\u001b[39m\n\u001b[0;32m     26\u001b[0m text3\u001b[38;5;241m=\u001b[39m \u001b[38;5;124m'\u001b[39m\u001b[38;5;124mrfb\u001b[39m\u001b[38;5;124m'\u001b[39m\n\u001b[1;32m---> 27\u001b[0m summary_df\u001b[38;5;241m=\u001b[39m read_and_store_data(folder_path, text1)\n",
      "Cell \u001b[1;32mIn[19], line 7\u001b[0m, in \u001b[0;36mread_and_store_data\u001b[1;34m(folder_path, text1)\u001b[0m\n\u001b[0;32m      5\u001b[0m \u001b[38;5;28;01mfor\u001b[39;00m file_name \u001b[38;5;129;01min\u001b[39;00m relevant_files:\n\u001b[0;32m      6\u001b[0m     file_path \u001b[38;5;241m=\u001b[39m os\u001b[38;5;241m.\u001b[39mpath\u001b[38;5;241m.\u001b[39mjoin(folder_path, file_name)\n\u001b[1;32m----> 7\u001b[0m     df \u001b[38;5;241m=\u001b[39m pd\u001b[38;5;241m.\u001b[39mread_csv(file_path)\n\u001b[0;32m      9\u001b[0m     SN, target_type \u001b[38;5;241m=\u001b[39m parse_file_name(file_name)\n\u001b[0;32m     10\u001b[0m     creation_date \u001b[38;5;241m=\u001b[39m get_file_creation_date(file_path)\n",
      "File \u001b[1;32mc:\\Users\\Santosh.Behera\\.conda\\SB_Ops\\Lib\\site-packages\\pandas\\io\\parsers\\readers.py:1026\u001b[0m, in \u001b[0;36mread_csv\u001b[1;34m(filepath_or_buffer, sep, delimiter, header, names, index_col, usecols, dtype, engine, converters, true_values, false_values, skipinitialspace, skiprows, skipfooter, nrows, na_values, keep_default_na, na_filter, verbose, skip_blank_lines, parse_dates, infer_datetime_format, keep_date_col, date_parser, date_format, dayfirst, cache_dates, iterator, chunksize, compression, thousands, decimal, lineterminator, quotechar, quoting, doublequote, escapechar, comment, encoding, encoding_errors, dialect, on_bad_lines, delim_whitespace, low_memory, memory_map, float_precision, storage_options, dtype_backend)\u001b[0m\n\u001b[0;32m   1013\u001b[0m kwds_defaults \u001b[38;5;241m=\u001b[39m _refine_defaults_read(\n\u001b[0;32m   1014\u001b[0m     dialect,\n\u001b[0;32m   1015\u001b[0m     delimiter,\n\u001b[1;32m   (...)\u001b[0m\n\u001b[0;32m   1022\u001b[0m     dtype_backend\u001b[38;5;241m=\u001b[39mdtype_backend,\n\u001b[0;32m   1023\u001b[0m )\n\u001b[0;32m   1024\u001b[0m kwds\u001b[38;5;241m.\u001b[39mupdate(kwds_defaults)\n\u001b[1;32m-> 1026\u001b[0m \u001b[38;5;28;01mreturn\u001b[39;00m _read(filepath_or_buffer, kwds)\n",
      "File \u001b[1;32mc:\\Users\\Santosh.Behera\\.conda\\SB_Ops\\Lib\\site-packages\\pandas\\io\\parsers\\readers.py:626\u001b[0m, in \u001b[0;36m_read\u001b[1;34m(filepath_or_buffer, kwds)\u001b[0m\n\u001b[0;32m    623\u001b[0m     \u001b[38;5;28;01mreturn\u001b[39;00m parser\n\u001b[0;32m    625\u001b[0m \u001b[38;5;28;01mwith\u001b[39;00m parser:\n\u001b[1;32m--> 626\u001b[0m     \u001b[38;5;28;01mreturn\u001b[39;00m parser\u001b[38;5;241m.\u001b[39mread(nrows)\n",
      "File \u001b[1;32mc:\\Users\\Santosh.Behera\\.conda\\SB_Ops\\Lib\\site-packages\\pandas\\io\\parsers\\readers.py:1923\u001b[0m, in \u001b[0;36mTextFileReader.read\u001b[1;34m(self, nrows)\u001b[0m\n\u001b[0;32m   1916\u001b[0m nrows \u001b[38;5;241m=\u001b[39m validate_integer(\u001b[38;5;124m\"\u001b[39m\u001b[38;5;124mnrows\u001b[39m\u001b[38;5;124m\"\u001b[39m, nrows)\n\u001b[0;32m   1917\u001b[0m \u001b[38;5;28;01mtry\u001b[39;00m:\n\u001b[0;32m   1918\u001b[0m     \u001b[38;5;66;03m# error: \"ParserBase\" has no attribute \"read\"\u001b[39;00m\n\u001b[0;32m   1919\u001b[0m     (\n\u001b[0;32m   1920\u001b[0m         index,\n\u001b[0;32m   1921\u001b[0m         columns,\n\u001b[0;32m   1922\u001b[0m         col_dict,\n\u001b[1;32m-> 1923\u001b[0m     ) \u001b[38;5;241m=\u001b[39m \u001b[38;5;28mself\u001b[39m\u001b[38;5;241m.\u001b[39m_engine\u001b[38;5;241m.\u001b[39mread(  \u001b[38;5;66;03m# type: ignore[attr-defined]\u001b[39;00m\n\u001b[0;32m   1924\u001b[0m         nrows\n\u001b[0;32m   1925\u001b[0m     )\n\u001b[0;32m   1926\u001b[0m \u001b[38;5;28;01mexcept\u001b[39;00m \u001b[38;5;167;01mException\u001b[39;00m:\n\u001b[0;32m   1927\u001b[0m     \u001b[38;5;28mself\u001b[39m\u001b[38;5;241m.\u001b[39mclose()\n",
      "File \u001b[1;32mc:\\Users\\Santosh.Behera\\.conda\\SB_Ops\\Lib\\site-packages\\pandas\\io\\parsers\\c_parser_wrapper.py:234\u001b[0m, in \u001b[0;36mCParserWrapper.read\u001b[1;34m(self, nrows)\u001b[0m\n\u001b[0;32m    232\u001b[0m \u001b[38;5;28;01mtry\u001b[39;00m:\n\u001b[0;32m    233\u001b[0m     \u001b[38;5;28;01mif\u001b[39;00m \u001b[38;5;28mself\u001b[39m\u001b[38;5;241m.\u001b[39mlow_memory:\n\u001b[1;32m--> 234\u001b[0m         chunks \u001b[38;5;241m=\u001b[39m \u001b[38;5;28mself\u001b[39m\u001b[38;5;241m.\u001b[39m_reader\u001b[38;5;241m.\u001b[39mread_low_memory(nrows)\n\u001b[0;32m    235\u001b[0m         \u001b[38;5;66;03m# destructive to chunks\u001b[39;00m\n\u001b[0;32m    236\u001b[0m         data \u001b[38;5;241m=\u001b[39m _concatenate_chunks(chunks)\n",
      "File \u001b[1;32mparsers.pyx:838\u001b[0m, in \u001b[0;36mpandas._libs.parsers.TextReader.read_low_memory\u001b[1;34m()\u001b[0m\n",
      "File \u001b[1;32mparsers.pyx:905\u001b[0m, in \u001b[0;36mpandas._libs.parsers.TextReader._read_rows\u001b[1;34m()\u001b[0m\n",
      "File \u001b[1;32mparsers.pyx:874\u001b[0m, in \u001b[0;36mpandas._libs.parsers.TextReader._tokenize_rows\u001b[1;34m()\u001b[0m\n",
      "File \u001b[1;32mparsers.pyx:891\u001b[0m, in \u001b[0;36mpandas._libs.parsers.TextReader._check_tokenize_status\u001b[1;34m()\u001b[0m\n",
      "File \u001b[1;32mparsers.pyx:2061\u001b[0m, in \u001b[0;36mpandas._libs.parsers.raise_parser_error\u001b[1;34m()\u001b[0m\n",
      "\u001b[1;31mParserError\u001b[0m: Error tokenizing data. C error: Expected 2 fields in line 18, saw 4\n"
     ]
    }
   ],
   "source": [
    "def read_and_store_data(folder_path, text1):\n",
    "    all_data = []\n",
    "    relevant_files = find_relevant_files(folder_path, text1)\n",
    "    \n",
    "    for file_name in relevant_files:\n",
    "        file_path = os.path.join(folder_path, file_name)\n",
    "        temp_df = pd.read_csv(file_path)\n",
    "        \n",
    "        SN, target_type = parse_file_name(file_name)\n",
    "        creation_date = get_file_creation_date(file_path)\n",
    "        \n",
    "        df['SN'] = SN\n",
    "        df['creation_date'] = creation_date\n",
    "        df['Target'] = target_type\n",
    "        \n",
    "        all_data.append(df)\n",
    "    \n",
    "    # Combine all data into a single DataFrame\n",
    "    combined_df = pd.concat(all_data, ignore_index=True)\n",
    "    return combined_df\n",
    "\n",
    "folder_path = r'C:\\work_folder\\RFB2\\Catheter_testing\\Catheter_testing_Brush_F28P'\n",
    "# read summary csv files\n",
    "text1= '.csv'\n",
    "text2= '_octiv'\n",
    "text3= 'rfb'\n",
    "summary_df= read_and_store_data(folder_path, text1)"
   ]
  },
  {
   "cell_type": "code",
   "execution_count": null,
   "id": "bdd2e556",
   "metadata": {},
   "outputs": [],
   "source": [
    "writepath= r'C:\\work_folder\\Misc_codes\\prelim_gage\\Data\\All_data\\output.csv'"
   ]
  },
  {
   "cell_type": "code",
   "execution_count": 90,
   "id": "8adfd1d4",
   "metadata": {},
   "outputs": [
    {
     "data": {
      "text/plain": [
       "array(['SR1', '_F2'], dtype=object)"
      ]
     },
     "execution_count": 90,
     "metadata": {},
     "output_type": "execute_result"
    }
   ],
   "source": [
    "summary_df[\"sample_repeat_no\"].unique()"
   ]
  },
  {
   "cell_type": "code",
   "execution_count": null,
   "id": "61318c6c",
   "metadata": {},
   "outputs": [],
   "source": [
    "import tkinter as tk\n",
    "from tkinter import ttk\n",
    "import matplotlib.pyplot as plt\n",
    "from matplotlib.backends.backend_tkagg import FigureCanvasTkAgg\n",
    "\n",
    "def create_gui(data):\n",
    "    def plot_sensor_data(sensor, parse_by):\n",
    "        fig, ax = plt.subplots()\n",
    "        if parse_by == 'test':\n",
    "            for test in data['test_no'].unique():\n",
    "                test_data = data[data['test_no'] == test]\n",
    "                ax.scatter( test_data['test_no'], test_data[sensor], label=f'Test {test}')\n",
    "            ax.boxplot([data[data['test_no'] == test][sensor] for test in data['test_no'].unique()], positions=range(len(data['test_no'].unique())))\n",
    "        elif parse_by == 'operator':\n",
    "            for operator in data['operator_no'].unique():\n",
    "                operator_data = data[data['operator_no'] == operator]\n",
    "                ax.scatter(operator_data['operator_no'], operator_data[sensor], label=f'Operator {operator}')\n",
    "            ax.boxplot([data[data['operator_no'] == operator][sensor] for operator in data['operator_no'].unique()], positions=range(len(data['operator_no'].unique())))\n",
    "        \n",
    "        ax.set_xlabel(parse_by)\n",
    "        ax.set_ylabel(sensor)\n",
    "        ax.legend()\n",
    "        canvas = FigureCanvasTkAgg(fig, master=window)\n",
    "        canvas.draw()\n",
    "        canvas.get_tk_widget().pack()\n",
    "\n",
    "    window = tk.Tk()\n",
    "    window.title(\"Sensor Data Plotter\")\n",
    "\n",
    "    sensor_label = tk.Label(window, text=\"Select Attribute to plot:\")\n",
    "    sensor_label.pack()\n",
    "    sensor_var = tk.StringVar()\n",
    "    sensor_dropdown = ttk.Combobox(window, textvariable=sensor_var)\n",
    "    sensor_dropdown['values'] = ['Ewatts', 'Awatts', 'Eff', 'PWatts', 'G3Eff', 'Real', 'Img', 'Freq']\n",
    "    sensor_dropdown.pack()\n",
    "\n",
    "    parse_by_label = tk.Label(window, text=\"Parse By:\")\n",
    "    parse_by_label.pack()\n",
    "    parse_by_var = tk.StringVar()\n",
    "    parse_by_dropdown = ttk.Combobox(window, textvariable=parse_by_var)\n",
    "    parse_by_dropdown['values'] = ['test', 'operator']\n",
    "    parse_by_dropdown.pack()\n",
    "\n",
    "    plot_button = tk.Button(window, text=\"Plot\", command=lambda: plot_sensor_data(sensor_var.get(), parse_by_var.get()))\n",
    "    plot_button.pack()\n",
    "\n",
    "    window.mainloop()\n",
    "\n",
    "# Example usage\n",
    "create_gui(summary_df)\n",
    "\n"
   ]
  },
  {
   "cell_type": "code",
   "execution_count": null,
   "id": "e5dc7170",
   "metadata": {},
   "outputs": [],
   "source": [
    "import tkinter as tk\n",
    "from tkinter import ttk\n",
    "import matplotlib.pyplot as plt\n",
    "from matplotlib.backends.backend_tkagg import FigureCanvasTkAgg\n",
    "import numpy as np\n",
    "\n",
    "def create_gui2(data):\n",
    "    def plot_sensor_data(sensor, parse_by, color_by):\n",
    "        fig, ax = plt.subplots()\n",
    "        unique_values = data[parse_by].unique()\n",
    "        colors = plt.cm.rainbow(np.linspace(0, 1, len(unique_values)))\n",
    "        \n",
    "        for i, value in enumerate(unique_values):\n",
    "            subset = data[data[parse_by] == value]\n",
    "            scatter = ax.scatter(subset[parse_by], subset[sensor], label=f'{parse_by} {value}', color=colors[i])\n",
    "            ax.boxplot([subset[subset[parse_by] == value][sensor] for value in unique_values], positions=range(len(unique_values)))\n",
    "        \n",
    "        if color_by:\n",
    "            scatter.set_array(data[color_by].astype('category').cat.codes)\n",
    "            plt.colorbar(scatter, ax=ax, label=color_by)\n",
    "        \n",
    "        ax.set_ylabel(sensor)\n",
    "        ax.set_xlabel(parse_by)\n",
    "        ax.legend()\n",
    "        canvas = FigureCanvasTkAgg(fig, master=window)\n",
    "        canvas.draw()\n",
    "        canvas.get_tk_widget().pack()\n",
    "\n",
    "    window = tk.Tk()\n",
    "    window.title(\"Sensor Data Plotter\")\n",
    "\n",
    "    sensor_label = tk.Label(window, text=\"Select Sensor:\")\n",
    "    sensor_label.pack()\n",
    "    sensor_var = tk.StringVar()\n",
    "    sensor_dropdown = ttk.Combobox(window, textvariable=sensor_var)\n",
    "    sensor_dropdown['values'] = ['Ewatts', 'Awatts', 'Eff', 'PWatts', 'G3Eff', 'Real', 'Img', 'Freq']\n",
    "    sensor_dropdown.pack()\n",
    "\n",
    "    parse_by_label = tk.Label(window, text=\"Parse By:\")\n",
    "    parse_by_label.pack()\n",
    "    parse_by_var = tk.StringVar()\n",
    "    parse_by_dropdown = ttk.Combobox(window, textvariable=parse_by_var)\n",
    "    parse_by_dropdown['values'] = ['test_no', 'operator_no', 'target_type', 'sample_repeat_no']\n",
    "    parse_by_dropdown.pack()\n",
    "\n",
    "    color_by_label = tk.Label(window, text=\"Color By:\")\n",
    "    color_by_label.pack()\n",
    "    color_by_var = tk.StringVar()\n",
    "    color_by_dropdown = ttk.Combobox(window, textvariable=color_by_var)\n",
    "    color_by_dropdown['values'] = ['SN', 'target_type', 'operator_no', 'test_no']\n",
    "    color_by_dropdown.pack()\n",
    "\n",
    "    plot_button = tk.Button(window, text=\"Plot\", command=lambda: plot_sensor_data(sensor_var.get(), parse_by_var.get(), color_by_var.get()))\n",
    "    plot_button.pack()\n",
    "\n",
    "    window.mainloop()\n",
    "\n",
    "\n"
   ]
  },
  {
   "cell_type": "code",
   "execution_count": null,
   "id": "884ca48c",
   "metadata": {},
   "outputs": [],
   "source": [
    "summary_df= summary_df[summary_df[\"Eff\"]>60]\n",
    "create_gui2(summary_df)"
   ]
  },
  {
   "cell_type": "code",
   "execution_count": null,
   "id": "d670ee28",
   "metadata": {},
   "outputs": [],
   "source": [
    "summary_df[\"SN\"].unique()"
   ]
  },
  {
   "cell_type": "code",
   "execution_count": null,
   "id": "ef48ce82",
   "metadata": {},
   "outputs": [],
   "source": [
    "summary_df.head"
   ]
  },
  {
   "cell_type": "code",
   "execution_count": null,
   "id": "740e17d6",
   "metadata": {},
   "outputs": [],
   "source": [
    "summary_df.to_csv(\"writepath\")"
   ]
  },
  {
   "cell_type": "code",
   "execution_count": null,
   "id": "87f1efd4",
   "metadata": {},
   "outputs": [],
   "source": [
    "df1= pd.read_csv('writepath')\n",
    "df1.head"
   ]
  },
  {
   "cell_type": "code",
   "execution_count": null,
   "id": "f626064c",
   "metadata": {},
   "outputs": [],
   "source": [
    "writepath"
   ]
  },
  {
   "cell_type": "code",
   "execution_count": null,
   "id": "557d8a05",
   "metadata": {},
   "outputs": [],
   "source": [
    "writepath= r'C:\\work_folder\\Misc_codes\\prelim_gage\\Data\\output.csv'\n",
    "summary_df.to_csv(writepath)"
   ]
  },
  {
   "cell_type": "code",
   "execution_count": null,
   "id": "2ea48605",
   "metadata": {},
   "outputs": [],
   "source": [
    "writepath"
   ]
  },
  {
   "cell_type": "code",
   "execution_count": null,
   "id": "1c94a1c2",
   "metadata": {},
   "outputs": [],
   "source": [
    "df1= pd.read_csv('writepath')"
   ]
  },
  {
   "cell_type": "code",
   "execution_count": null,
   "id": "68d814c1",
   "metadata": {},
   "outputs": [],
   "source": []
  }
 ],
 "metadata": {
  "kernelspec": {
   "display_name": "SB_Ops",
   "language": "python",
   "name": "python3"
  },
  "language_info": {
   "codemirror_mode": {
    "name": "ipython",
    "version": 3
   },
   "file_extension": ".py",
   "mimetype": "text/x-python",
   "name": "python",
   "nbconvert_exporter": "python",
   "pygments_lexer": "ipython3",
   "version": "3.12.9"
  }
 },
 "nbformat": 4,
 "nbformat_minor": 5
}
