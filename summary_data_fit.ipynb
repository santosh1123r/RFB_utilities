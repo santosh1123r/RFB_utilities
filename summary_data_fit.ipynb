{
 "cells": [
  {
   "cell_type": "code",
   "execution_count": 13,
   "id": "1164eff4",
   "metadata": {},
   "outputs": [
    {
     "data": {
      "application/vnd.plotly.v1+json": {
       "config": {
        "plotlyServerURL": "https://plot.ly"
       },
       "data": [
        {
         "legendgroup": "19316 - Brush-IQC",
         "marker": {
          "color": "#EF553B"
         },
         "mode": "markers",
         "name": "19316 - Brush-IQC",
         "showlegend": true,
         "type": "scatter",
         "x": {
          "bdata": "cT0K16NwA0AAAAAAAAAEQHsUrkfhegRA9ihcj8L1BEA=",
          "dtype": "f8"
         },
         "y": {
          "bdata": "mpmZmZmZQUAzMzMzM3NBQM3MzMzMTEFAZmZmZmYmQUA=",
          "dtype": "f8"
         }
        },
        {
         "legendgroup": "19316 - Brush-IQC",
         "line": {
          "color": "#EF553B",
          "dash": "dot"
         },
         "mode": "lines",
         "name": "19316 - Brush-IQC",
         "showlegend": false,
         "type": "scatter",
         "x": {
          "bdata": "cT0K16NwA0AAAAAAAAAEQHsUrkfhegRA9ihcj8L1BEA=",
          "dtype": "f8"
         },
         "y": {
          "bdata": "gl0MwFabQUCmnRCSvHBBQH2Lpmo4TEFAU3k8Q7QnQUA=",
          "dtype": "f8"
         }
        },
        {
         "legendgroup": "19316 - Brush-LP",
         "marker": {
          "color": "#00CC96"
         },
         "mode": "markers",
         "name": "19316 - Brush-LP",
         "showlegend": true,
         "type": "scatter",
         "x": {
          "bdata": "hetRuB6FA0AAAAAAAAAEQHsUrkfhegRA9ihcj8L1BEA=",
          "dtype": "f8"
         },
         "y": {
          "bdata": "AAAAAABAQUBmZmZmZiZBQM3MzMzMDEFAMzMzMzPzQEA=",
          "dtype": "f8"
         }
        },
        {
         "legendgroup": "19316 - Brush-LP",
         "line": {
          "color": "#00CC96",
          "dash": "dot"
         },
         "mode": "lines",
         "name": "19316 - Brush-LP",
         "showlegend": false,
         "type": "scatter",
         "x": {
          "bdata": "hetRuB6FA0AAAAAAAAAEQHsUrkfhegRA9ihcj8L1BEA=",
          "dtype": "f8"
         },
         "y": {
          "bdata": "//////8/QUBlZmZmZiZBQMvMzMzMDEFAMTMzMzPzQEA=",
          "dtype": "f8"
         }
        },
        {
         "legendgroup": "23890 - Brush-IQC",
         "marker": {
          "color": "#EF553B"
         },
         "mode": "markers",
         "name": "23890 - Brush-IQC",
         "showlegend": true,
         "type": "scatter",
         "x": {
          "bdata": "cT0K16NwA0AAAAAAAAAEQHsUrkfhegRA9ihcj8L1BEA=",
          "dtype": "f8"
         },
         "y": {
          "bdata": "MzMzMzMzQUDNzMzMzAxBQJqZmZmZ2UBAmpmZmZnZQEA=",
          "dtype": "f8"
         }
        },
        {
         "legendgroup": "23890 - Brush-IQC",
         "line": {
          "color": "#EF553B",
          "dash": "dot"
         },
         "mode": "lines",
         "name": "23890 - Brush-IQC",
         "showlegend": false,
         "type": "scatter",
         "x": {
          "bdata": "cT0K16NwA0AAAAAAAAAEQHsUrkfhegRA9ihcj8L1BEA=",
          "dtype": "f8"
         },
         "y": {
          "bdata": "wigBIpAuQUAK0/Xx1QpBQCOuEFs27EBAPIkrxJbNQEA=",
          "dtype": "f8"
         }
        },
        {
         "legendgroup": "23890 - Brush-LP",
         "marker": {
          "color": "#00CC96"
         },
         "mode": "markers",
         "name": "23890 - Brush-LP",
         "showlegend": true,
         "type": "scatter",
         "x": {
          "bdata": "hetRuB6FA0AAAAAAAAAEQHsUrkfhegRA9ihcj8L1BEA=",
          "dtype": "f8"
         },
         "y": {
          "bdata": "ZmZmZmYmQUAzMzMzM/NAQM3MzMzMzEBAZmZmZmamQEA=",
          "dtype": "f8"
         }
        },
        {
         "legendgroup": "23890 - Brush-LP",
         "line": {
          "color": "#00CC96",
          "dash": "dot"
         },
         "mode": "lines",
         "name": "23890 - Brush-LP",
         "showlegend": false,
         "type": "scatter",
         "x": {
          "bdata": "hetRuB6FA0AAAAAAAAAEQHsUrkfhegRA9ihcj8L1BEA=",
          "dtype": "f8"
         },
         "y": {
          "bdata": "xvUoXI8iQUC6HoXrUfhAQK9H4XoUzkBAo3A9CtejQEA=",
          "dtype": "f8"
         }
        },
        {
         "legendgroup": "23890 - F28P-LP",
         "marker": {
          "color": "#636EFA"
         },
         "mode": "markers",
         "name": "23890 - F28P-LP",
         "showlegend": true,
         "type": "scatter",
         "x": {
          "bdata": "cT0K16NwA0AAAAAAAAAEQHsUrkfhegRA9ihcj8L1BEA=",
          "dtype": "f8"
         },
         "y": {
          "bdata": "ZmZmZmamQUAAAAAAAIBBQM3MzMzMTEFAmpmZmZkZQUA=",
          "dtype": "f8"
         }
        },
        {
         "legendgroup": "23890 - F28P-LP",
         "line": {
          "color": "#636EFA",
          "dash": "dot"
         },
         "mode": "lines",
         "name": "23890 - F28P-LP",
         "showlegend": false,
         "type": "scatter",
         "x": {
          "bdata": "cT0K16NwA0AAAAAAAAAEQHsUrkfhegRA9ihcj8L1BEA=",
          "dtype": "f8"
         },
         "y": {
          "bdata": "cPPkOzKsQUCFDeLmyXdBQHJITTDeSkFAYIO4efIdQUA=",
          "dtype": "f8"
         }
        },
        {
         "legendgroup": "24603 - Brush-IQC",
         "marker": {
          "color": "#EF553B"
         },
         "mode": "markers",
         "name": "24603 - Brush-IQC",
         "showlegend": true,
         "type": "scatter",
         "x": {
          "bdata": "cT0K16NwA0AAAAAAAAAEQHsUrkfhegRA9ihcj8L1BEA=",
          "dtype": "f8"
         },
         "y": {
          "bdata": "AAAAAABAQkAAAAAAAABCQJqZmZmZ2UFAmpmZmZmZQUA=",
          "dtype": "f8"
         }
        },
        {
         "legendgroup": "24603 - Brush-IQC",
         "line": {
          "color": "#EF553B",
          "dash": "dot"
         },
         "mode": "lines",
         "name": "24603 - Brush-IQC",
         "showlegend": false,
         "type": "scatter",
         "x": {
          "bdata": "cT0K16NwA0AAAAAAAAAEQHsUrkfhegRA9ihcj8L1BEA=",
          "dtype": "f8"
         },
         "y": {
          "bdata": "/v////8/QkBDRERERARCQBARERER0UFA3N3d3d2dQUA=",
          "dtype": "f8"
         }
        },
        {
         "legendgroup": "24603 - Brush-LP",
         "marker": {
          "color": "#00CC96"
         },
         "mode": "markers",
         "name": "24603 - Brush-LP",
         "showlegend": true,
         "type": "scatter",
         "x": {
          "bdata": "hetRuB6FA0AAAAAAAAAEQHsUrkfhegRA9ihcj8L1BEA=",
          "dtype": "f8"
         },
         "y": {
          "bdata": "mpmZmZkZQkAzMzMzM/NBQM3MzMzMzEFAMzMzMzOzQUA=",
          "dtype": "f8"
         }
        },
        {
         "legendgroup": "24603 - Brush-LP",
         "line": {
          "color": "#00CC96",
          "dash": "dot"
         },
         "mode": "lines",
         "name": "24603 - Brush-LP",
         "showlegend": false,
         "type": "scatter",
         "x": {
          "bdata": "hetRuB6FA0AAAAAAAAAEQHsUrkfhegRA9ihcj8L1BEA=",
          "dtype": "f8"
         },
         "y": {
          "bdata": "16NwPQoXQkAUrkfhevRBQFG4HoXr0UFAjsL1KFyvQUA=",
          "dtype": "f8"
         }
        },
        {
         "legendgroup": "24603 - F28P-LP",
         "marker": {
          "color": "#636EFA"
         },
         "mode": "markers",
         "name": "24603 - F28P-LP",
         "showlegend": true,
         "type": "scatter",
         "x": {
          "bdata": "cT0K16NwA0AAAAAAAAAEQHsUrkfhegRA9ihcj8L1BEA=",
          "dtype": "f8"
         },
         "y": {
          "bdata": "zczMzMzMQkDNzMzMzIxCQJqZmZmZWUJAmpmZmZkZQkA=",
          "dtype": "f8"
         }
        },
        {
         "legendgroup": "24603 - F28P-LP",
         "line": {
          "color": "#636EFA",
          "dash": "dot"
         },
         "mode": "lines",
         "name": "24603 - F28P-LP",
         "showlegend": false,
         "type": "scatter",
         "x": {
          "bdata": "cT0K16NwA0AAAAAAAAAEQHsUrkfhegRA9ihcj8L1BEA=",
          "dtype": "f8"
         },
         "y": {
          "bdata": "DHAswj/OQkBNcqdo4YxCQDx0Na7ZVEJAKnbD89EcQkA=",
          "dtype": "f8"
         }
        }
       ],
       "layout": {
        "height": 800,
        "template": {
         "data": {
          "bar": [
           {
            "error_x": {
             "color": "#2a3f5f"
            },
            "error_y": {
             "color": "#2a3f5f"
            },
            "marker": {
             "line": {
              "color": "#E5ECF6",
              "width": 0.5
             },
             "pattern": {
              "fillmode": "overlay",
              "size": 10,
              "solidity": 0.2
             }
            },
            "type": "bar"
           }
          ],
          "barpolar": [
           {
            "marker": {
             "line": {
              "color": "#E5ECF6",
              "width": 0.5
             },
             "pattern": {
              "fillmode": "overlay",
              "size": 10,
              "solidity": 0.2
             }
            },
            "type": "barpolar"
           }
          ],
          "carpet": [
           {
            "aaxis": {
             "endlinecolor": "#2a3f5f",
             "gridcolor": "white",
             "linecolor": "white",
             "minorgridcolor": "white",
             "startlinecolor": "#2a3f5f"
            },
            "baxis": {
             "endlinecolor": "#2a3f5f",
             "gridcolor": "white",
             "linecolor": "white",
             "minorgridcolor": "white",
             "startlinecolor": "#2a3f5f"
            },
            "type": "carpet"
           }
          ],
          "choropleth": [
           {
            "colorbar": {
             "outlinewidth": 0,
             "ticks": ""
            },
            "type": "choropleth"
           }
          ],
          "contour": [
           {
            "colorbar": {
             "outlinewidth": 0,
             "ticks": ""
            },
            "colorscale": [
             [
              0,
              "#0d0887"
             ],
             [
              0.1111111111111111,
              "#46039f"
             ],
             [
              0.2222222222222222,
              "#7201a8"
             ],
             [
              0.3333333333333333,
              "#9c179e"
             ],
             [
              0.4444444444444444,
              "#bd3786"
             ],
             [
              0.5555555555555556,
              "#d8576b"
             ],
             [
              0.6666666666666666,
              "#ed7953"
             ],
             [
              0.7777777777777778,
              "#fb9f3a"
             ],
             [
              0.8888888888888888,
              "#fdca26"
             ],
             [
              1,
              "#f0f921"
             ]
            ],
            "type": "contour"
           }
          ],
          "contourcarpet": [
           {
            "colorbar": {
             "outlinewidth": 0,
             "ticks": ""
            },
            "type": "contourcarpet"
           }
          ],
          "heatmap": [
           {
            "colorbar": {
             "outlinewidth": 0,
             "ticks": ""
            },
            "colorscale": [
             [
              0,
              "#0d0887"
             ],
             [
              0.1111111111111111,
              "#46039f"
             ],
             [
              0.2222222222222222,
              "#7201a8"
             ],
             [
              0.3333333333333333,
              "#9c179e"
             ],
             [
              0.4444444444444444,
              "#bd3786"
             ],
             [
              0.5555555555555556,
              "#d8576b"
             ],
             [
              0.6666666666666666,
              "#ed7953"
             ],
             [
              0.7777777777777778,
              "#fb9f3a"
             ],
             [
              0.8888888888888888,
              "#fdca26"
             ],
             [
              1,
              "#f0f921"
             ]
            ],
            "type": "heatmap"
           }
          ],
          "histogram": [
           {
            "marker": {
             "pattern": {
              "fillmode": "overlay",
              "size": 10,
              "solidity": 0.2
             }
            },
            "type": "histogram"
           }
          ],
          "histogram2d": [
           {
            "colorbar": {
             "outlinewidth": 0,
             "ticks": ""
            },
            "colorscale": [
             [
              0,
              "#0d0887"
             ],
             [
              0.1111111111111111,
              "#46039f"
             ],
             [
              0.2222222222222222,
              "#7201a8"
             ],
             [
              0.3333333333333333,
              "#9c179e"
             ],
             [
              0.4444444444444444,
              "#bd3786"
             ],
             [
              0.5555555555555556,
              "#d8576b"
             ],
             [
              0.6666666666666666,
              "#ed7953"
             ],
             [
              0.7777777777777778,
              "#fb9f3a"
             ],
             [
              0.8888888888888888,
              "#fdca26"
             ],
             [
              1,
              "#f0f921"
             ]
            ],
            "type": "histogram2d"
           }
          ],
          "histogram2dcontour": [
           {
            "colorbar": {
             "outlinewidth": 0,
             "ticks": ""
            },
            "colorscale": [
             [
              0,
              "#0d0887"
             ],
             [
              0.1111111111111111,
              "#46039f"
             ],
             [
              0.2222222222222222,
              "#7201a8"
             ],
             [
              0.3333333333333333,
              "#9c179e"
             ],
             [
              0.4444444444444444,
              "#bd3786"
             ],
             [
              0.5555555555555556,
              "#d8576b"
             ],
             [
              0.6666666666666666,
              "#ed7953"
             ],
             [
              0.7777777777777778,
              "#fb9f3a"
             ],
             [
              0.8888888888888888,
              "#fdca26"
             ],
             [
              1,
              "#f0f921"
             ]
            ],
            "type": "histogram2dcontour"
           }
          ],
          "mesh3d": [
           {
            "colorbar": {
             "outlinewidth": 0,
             "ticks": ""
            },
            "type": "mesh3d"
           }
          ],
          "parcoords": [
           {
            "line": {
             "colorbar": {
              "outlinewidth": 0,
              "ticks": ""
             }
            },
            "type": "parcoords"
           }
          ],
          "pie": [
           {
            "automargin": true,
            "type": "pie"
           }
          ],
          "scatter": [
           {
            "fillpattern": {
             "fillmode": "overlay",
             "size": 10,
             "solidity": 0.2
            },
            "type": "scatter"
           }
          ],
          "scatter3d": [
           {
            "line": {
             "colorbar": {
              "outlinewidth": 0,
              "ticks": ""
             }
            },
            "marker": {
             "colorbar": {
              "outlinewidth": 0,
              "ticks": ""
             }
            },
            "type": "scatter3d"
           }
          ],
          "scattercarpet": [
           {
            "marker": {
             "colorbar": {
              "outlinewidth": 0,
              "ticks": ""
             }
            },
            "type": "scattercarpet"
           }
          ],
          "scattergeo": [
           {
            "marker": {
             "colorbar": {
              "outlinewidth": 0,
              "ticks": ""
             }
            },
            "type": "scattergeo"
           }
          ],
          "scattergl": [
           {
            "marker": {
             "colorbar": {
              "outlinewidth": 0,
              "ticks": ""
             }
            },
            "type": "scattergl"
           }
          ],
          "scattermap": [
           {
            "marker": {
             "colorbar": {
              "outlinewidth": 0,
              "ticks": ""
             }
            },
            "type": "scattermap"
           }
          ],
          "scattermapbox": [
           {
            "marker": {
             "colorbar": {
              "outlinewidth": 0,
              "ticks": ""
             }
            },
            "type": "scattermapbox"
           }
          ],
          "scatterpolar": [
           {
            "marker": {
             "colorbar": {
              "outlinewidth": 0,
              "ticks": ""
             }
            },
            "type": "scatterpolar"
           }
          ],
          "scatterpolargl": [
           {
            "marker": {
             "colorbar": {
              "outlinewidth": 0,
              "ticks": ""
             }
            },
            "type": "scatterpolargl"
           }
          ],
          "scatterternary": [
           {
            "marker": {
             "colorbar": {
              "outlinewidth": 0,
              "ticks": ""
             }
            },
            "type": "scatterternary"
           }
          ],
          "surface": [
           {
            "colorbar": {
             "outlinewidth": 0,
             "ticks": ""
            },
            "colorscale": [
             [
              0,
              "#0d0887"
             ],
             [
              0.1111111111111111,
              "#46039f"
             ],
             [
              0.2222222222222222,
              "#7201a8"
             ],
             [
              0.3333333333333333,
              "#9c179e"
             ],
             [
              0.4444444444444444,
              "#bd3786"
             ],
             [
              0.5555555555555556,
              "#d8576b"
             ],
             [
              0.6666666666666666,
              "#ed7953"
             ],
             [
              0.7777777777777778,
              "#fb9f3a"
             ],
             [
              0.8888888888888888,
              "#fdca26"
             ],
             [
              1,
              "#f0f921"
             ]
            ],
            "type": "surface"
           }
          ],
          "table": [
           {
            "cells": {
             "fill": {
              "color": "#EBF0F8"
             },
             "line": {
              "color": "white"
             }
            },
            "header": {
             "fill": {
              "color": "#C8D4E3"
             },
             "line": {
              "color": "white"
             }
            },
            "type": "table"
           }
          ]
         },
         "layout": {
          "annotationdefaults": {
           "arrowcolor": "#2a3f5f",
           "arrowhead": 0,
           "arrowwidth": 1
          },
          "autotypenumbers": "strict",
          "coloraxis": {
           "colorbar": {
            "outlinewidth": 0,
            "ticks": ""
           }
          },
          "colorscale": {
           "diverging": [
            [
             0,
             "#8e0152"
            ],
            [
             0.1,
             "#c51b7d"
            ],
            [
             0.2,
             "#de77ae"
            ],
            [
             0.3,
             "#f1b6da"
            ],
            [
             0.4,
             "#fde0ef"
            ],
            [
             0.5,
             "#f7f7f7"
            ],
            [
             0.6,
             "#e6f5d0"
            ],
            [
             0.7,
             "#b8e186"
            ],
            [
             0.8,
             "#7fbc41"
            ],
            [
             0.9,
             "#4d9221"
            ],
            [
             1,
             "#276419"
            ]
           ],
           "sequential": [
            [
             0,
             "#0d0887"
            ],
            [
             0.1111111111111111,
             "#46039f"
            ],
            [
             0.2222222222222222,
             "#7201a8"
            ],
            [
             0.3333333333333333,
             "#9c179e"
            ],
            [
             0.4444444444444444,
             "#bd3786"
            ],
            [
             0.5555555555555556,
             "#d8576b"
            ],
            [
             0.6666666666666666,
             "#ed7953"
            ],
            [
             0.7777777777777778,
             "#fb9f3a"
            ],
            [
             0.8888888888888888,
             "#fdca26"
            ],
            [
             1,
             "#f0f921"
            ]
           ],
           "sequentialminus": [
            [
             0,
             "#0d0887"
            ],
            [
             0.1111111111111111,
             "#46039f"
            ],
            [
             0.2222222222222222,
             "#7201a8"
            ],
            [
             0.3333333333333333,
             "#9c179e"
            ],
            [
             0.4444444444444444,
             "#bd3786"
            ],
            [
             0.5555555555555556,
             "#d8576b"
            ],
            [
             0.6666666666666666,
             "#ed7953"
            ],
            [
             0.7777777777777778,
             "#fb9f3a"
            ],
            [
             0.8888888888888888,
             "#fdca26"
            ],
            [
             1,
             "#f0f921"
            ]
           ]
          },
          "colorway": [
           "#636efa",
           "#EF553B",
           "#00cc96",
           "#ab63fa",
           "#FFA15A",
           "#19d3f3",
           "#FF6692",
           "#B6E880",
           "#FF97FF",
           "#FECB52"
          ],
          "font": {
           "color": "#2a3f5f"
          },
          "geo": {
           "bgcolor": "white",
           "lakecolor": "white",
           "landcolor": "#E5ECF6",
           "showlakes": true,
           "showland": true,
           "subunitcolor": "white"
          },
          "hoverlabel": {
           "align": "left"
          },
          "hovermode": "closest",
          "mapbox": {
           "style": "light"
          },
          "paper_bgcolor": "white",
          "plot_bgcolor": "#E5ECF6",
          "polar": {
           "angularaxis": {
            "gridcolor": "white",
            "linecolor": "white",
            "ticks": ""
           },
           "bgcolor": "#E5ECF6",
           "radialaxis": {
            "gridcolor": "white",
            "linecolor": "white",
            "ticks": ""
           }
          },
          "scene": {
           "xaxis": {
            "backgroundcolor": "#E5ECF6",
            "gridcolor": "white",
            "gridwidth": 2,
            "linecolor": "white",
            "showbackground": true,
            "ticks": "",
            "zerolinecolor": "white"
           },
           "yaxis": {
            "backgroundcolor": "#E5ECF6",
            "gridcolor": "white",
            "gridwidth": 2,
            "linecolor": "white",
            "showbackground": true,
            "ticks": "",
            "zerolinecolor": "white"
           },
           "zaxis": {
            "backgroundcolor": "#E5ECF6",
            "gridcolor": "white",
            "gridwidth": 2,
            "linecolor": "white",
            "showbackground": true,
            "ticks": "",
            "zerolinecolor": "white"
           }
          },
          "shapedefaults": {
           "line": {
            "color": "#2a3f5f"
           }
          },
          "ternary": {
           "aaxis": {
            "gridcolor": "white",
            "linecolor": "white",
            "ticks": ""
           },
           "baxis": {
            "gridcolor": "white",
            "linecolor": "white",
            "ticks": ""
           },
           "bgcolor": "#E5ECF6",
           "caxis": {
            "gridcolor": "white",
            "linecolor": "white",
            "ticks": ""
           }
          },
          "title": {
           "x": 0.05
          },
          "xaxis": {
           "automargin": true,
           "gridcolor": "white",
           "linecolor": "white",
           "ticks": "",
           "title": {
            "standoff": 15
           },
           "zerolinecolor": "white",
           "zerolinewidth": 2
          },
          "yaxis": {
           "automargin": true,
           "gridcolor": "white",
           "linecolor": "white",
           "ticks": "",
           "title": {
            "standoff": 15
           },
           "zerolinecolor": "white",
           "zerolinewidth": 2
          }
         }
        },
        "title": {
         "text": "Linear Fit of Power vs Height by SN and Type"
        },
        "xaxis": {
         "range": [
          2.4,
          2.65
         ],
         "title": {
          "text": "Height (in)"
         }
        },
        "yaxis": {
         "range": [
          32,
          38
         ],
         "title": {
          "text": "Power (W)"
         }
        }
       }
      }
     },
     "metadata": {},
     "output_type": "display_data"
    },
    {
     "name": "stdout",
     "output_type": "stream",
     "text": [
      "19316 - Brush-IQC: y = -4.7547x + 46.7675\n",
      "19316 - Brush-LP: y = -3.3333x + 42.6333\n",
      "23890 - Brush-IQC: y = -3.9874x + 44.0532\n",
      "23890 - Brush-LP: y = -5.5000x + 47.6900\n",
      "23890 - F28P-LP: y = -5.8491x + 49.5585\n",
      "24603 - Brush-IQC: y = -6.6667x + 52.7000\n",
      "24603 - Brush-LP: y = -4.5000x + 47.1600\n",
      "24603 - F28P-LP: y = -7.2956x + 55.3396\n"
     ]
    }
   ],
   "source": [
    "import pandas as pd\n",
    "import numpy as np\n",
    "import plotly.graph_objects as go\n",
    "import plotly.express as px\n",
    "\n",
    "# Load your CSV file\n",
    "df = pd.read_csv(r'C:\\work_folder\\RFB2\\Catheter_testing\\LP_IQC_comparison.csv')  # Replace with your actual file path\n",
    "\n",
    "# Create a color map for each unique Type\n",
    "unique_types = df['Type'].unique()\n",
    "color_map = {type_: color for type_, color in zip(unique_types, px.colors.qualitative.Plotly)}\n",
    "\n",
    "# Create a Plotly figure\n",
    "fig = go.Figure()\n",
    "\n",
    "# Store fit parameters\n",
    "fit_parameters = []\n",
    "\n",
    "# Group data by SN and Type\n",
    "grouped = df.groupby(['SN', 'Type'])\n",
    "\n",
    "# Iterate through each group and plot\n",
    "for (sn, type_), group in grouped:\n",
    "    x = group['Ht']\n",
    "    y = group['Power']\n",
    "\n",
    "    # Linear regression\n",
    "    slope, intercept = np.polyfit(x, y, 1)\n",
    "    fit_line = slope * x + intercept\n",
    "\n",
    "    # Store fit parameters\n",
    "    fit_parameters.append(f\"{sn} - {type_}: y = {slope:.4f}x + {intercept:.4f}\")\n",
    "\n",
    "    # Create a unique legend group\n",
    "    legend_group = f'{sn} - {type_}'\n",
    "    color = color_map[type_]\n",
    "\n",
    "    # Scatter points\n",
    "    fig.add_trace(go.Scatter(\n",
    "        x=x, y=y,\n",
    "        mode='markers',\n",
    "        name=legend_group,\n",
    "        marker=dict(color=color),\n",
    "        legendgroup=legend_group,\n",
    "        showlegend=True\n",
    "    ))\n",
    "\n",
    "    # Fitted line\n",
    "    fig.add_trace(go.Scatter(\n",
    "        x=x, y=fit_line,\n",
    "        mode='lines',\n",
    "        name=legend_group,\n",
    "        line=dict(color=color, dash='dot'),\n",
    "        legendgroup=legend_group,\n",
    "        showlegend=False  # Avoid duplicate legend entry\n",
    "    ))\n",
    "\n",
    "# Layout settings\n",
    "fig.update_layout(\n",
    "    title='Linear Fit of Power vs Height by SN and Type',\n",
    "    xaxis_title='Height (in)',\n",
    "    yaxis_title='Power (W)',\n",
    "    height=800,\n",
    "    xaxis=dict(range=[2.4, 2.65]),\n",
    "    yaxis=dict(range=[32, 38])\n",
    "\n",
    ")\n",
    "\n",
    "fig.show()\n",
    "\n",
    "# Print fit parameters\n",
    "for param in fit_parameters:\n",
    "    print(param)\n"
   ]
  },
  {
   "cell_type": "code",
   "execution_count": 12,
   "id": "5db1f6e8",
   "metadata": {},
   "outputs": [
    {
     "data": {
      "application/vnd.plotly.v1+json": {
       "config": {
        "plotlyServerURL": "https://plot.ly"
       },
       "data": [
        {
         "legendgroup": "19316 - Brush-IQC",
         "marker": {
          "color": "#EF553B"
         },
         "mode": "markers",
         "name": "19316 - Brush-IQC",
         "showlegend": true,
         "type": "scatter",
         "x": {
          "bdata": "cT0K16NwA0AAAAAAAAAEQHsUrkfhegRA9ihcj8L1BEA=",
          "dtype": "f8"
         },
         "y": {
          "bdata": "mpmZmZmZQUAzMzMzM3NBQM3MzMzMTEFAZmZmZmYmQUA=",
          "dtype": "f8"
         }
        },
        {
         "legendgroup": "19316 - Brush-IQC",
         "line": {
          "color": "#EF553B",
          "dash": "dot"
         },
         "mode": "lines",
         "name": "19316 - Brush-IQC",
         "showlegend": false,
         "type": "scatter",
         "x": {
          "bdata": "cT0K16NwA0AAAAAAAAAEQHsUrkfhegRA9ihcj8L1BEA=",
          "dtype": "f8"
         },
         "y": {
          "bdata": "gl0MwFabQUCmnRCSvHBBQH2Lpmo4TEFAU3k8Q7QnQUA=",
          "dtype": "f8"
         }
        },
        {
         "legendgroup": "19316 - Brush-LP",
         "marker": {
          "color": "#00CC96"
         },
         "mode": "markers",
         "name": "19316 - Brush-LP",
         "showlegend": true,
         "type": "scatter",
         "x": {
          "bdata": "hetRuB6FA0AAAAAAAAAEQHsUrkfhegRA9ihcj8L1BEA=",
          "dtype": "f8"
         },
         "y": {
          "bdata": "AAAAAABAQUBmZmZmZiZBQM3MzMzMDEFAMzMzMzPzQEA=",
          "dtype": "f8"
         }
        },
        {
         "legendgroup": "19316 - Brush-LP",
         "line": {
          "color": "#00CC96",
          "dash": "dot"
         },
         "mode": "lines",
         "name": "19316 - Brush-LP",
         "showlegend": false,
         "type": "scatter",
         "x": {
          "bdata": "hetRuB6FA0AAAAAAAAAEQHsUrkfhegRA9ihcj8L1BEA=",
          "dtype": "f8"
         },
         "y": {
          "bdata": "//////8/QUBlZmZmZiZBQMvMzMzMDEFAMTMzMzPzQEA=",
          "dtype": "f8"
         }
        },
        {
         "legendgroup": "23890 - Brush-IQC",
         "marker": {
          "color": "#EF553B"
         },
         "mode": "markers",
         "name": "23890 - Brush-IQC",
         "showlegend": true,
         "type": "scatter",
         "x": {
          "bdata": "cT0K16NwA0AAAAAAAAAEQHsUrkfhegRA9ihcj8L1BEA=",
          "dtype": "f8"
         },
         "y": {
          "bdata": "MzMzMzMzQUDNzMzMzAxBQJqZmZmZ2UBAmpmZmZnZQEA=",
          "dtype": "f8"
         }
        },
        {
         "legendgroup": "23890 - Brush-IQC",
         "line": {
          "color": "#EF553B",
          "dash": "dot"
         },
         "mode": "lines",
         "name": "23890 - Brush-IQC",
         "showlegend": false,
         "type": "scatter",
         "x": {
          "bdata": "cT0K16NwA0AAAAAAAAAEQHsUrkfhegRA9ihcj8L1BEA=",
          "dtype": "f8"
         },
         "y": {
          "bdata": "wigBIpAuQUAK0/Xx1QpBQCOuEFs27EBAPIkrxJbNQEA=",
          "dtype": "f8"
         }
        },
        {
         "legendgroup": "23890 - Brush-LP",
         "marker": {
          "color": "#00CC96"
         },
         "mode": "markers",
         "name": "23890 - Brush-LP",
         "showlegend": true,
         "type": "scatter",
         "x": {
          "bdata": "hetRuB6FA0AAAAAAAAAEQHsUrkfhegRA9ihcj8L1BEA=",
          "dtype": "f8"
         },
         "y": {
          "bdata": "ZmZmZmYmQUAzMzMzM/NAQM3MzMzMzEBAZmZmZmamQEA=",
          "dtype": "f8"
         }
        },
        {
         "legendgroup": "23890 - Brush-LP",
         "line": {
          "color": "#00CC96",
          "dash": "dot"
         },
         "mode": "lines",
         "name": "23890 - Brush-LP",
         "showlegend": false,
         "type": "scatter",
         "x": {
          "bdata": "hetRuB6FA0AAAAAAAAAEQHsUrkfhegRA9ihcj8L1BEA=",
          "dtype": "f8"
         },
         "y": {
          "bdata": "xvUoXI8iQUC6HoXrUfhAQK9H4XoUzkBAo3A9CtejQEA=",
          "dtype": "f8"
         }
        },
        {
         "legendgroup": "23890 - F28P-LP",
         "marker": {
          "color": "#636EFA"
         },
         "mode": "markers",
         "name": "23890 - F28P-LP",
         "showlegend": true,
         "type": "scatter",
         "x": {
          "bdata": "cT0K16NwA0AAAAAAAAAEQHsUrkfhegRA9ihcj8L1BEA=",
          "dtype": "f8"
         },
         "y": {
          "bdata": "ZmZmZmamQUAAAAAAAIBBQM3MzMzMTEFAmpmZmZkZQUA=",
          "dtype": "f8"
         }
        },
        {
         "legendgroup": "23890 - F28P-LP",
         "line": {
          "color": "#636EFA",
          "dash": "dot"
         },
         "mode": "lines",
         "name": "23890 - F28P-LP",
         "showlegend": false,
         "type": "scatter",
         "x": {
          "bdata": "cT0K16NwA0AAAAAAAAAEQHsUrkfhegRA9ihcj8L1BEA=",
          "dtype": "f8"
         },
         "y": {
          "bdata": "cPPkOzKsQUCFDeLmyXdBQHJITTDeSkFAYIO4efIdQUA=",
          "dtype": "f8"
         }
        },
        {
         "legendgroup": "24603 - Brush-IQC",
         "marker": {
          "color": "#EF553B"
         },
         "mode": "markers",
         "name": "24603 - Brush-IQC",
         "showlegend": true,
         "type": "scatter",
         "x": {
          "bdata": "cT0K16NwA0AAAAAAAAAEQHsUrkfhegRA9ihcj8L1BEA=",
          "dtype": "f8"
         },
         "y": {
          "bdata": "AAAAAABAQkAAAAAAAABCQJqZmZmZ2UFAmpmZmZmZQUA=",
          "dtype": "f8"
         }
        },
        {
         "legendgroup": "24603 - Brush-IQC",
         "line": {
          "color": "#EF553B",
          "dash": "dot"
         },
         "mode": "lines",
         "name": "24603 - Brush-IQC",
         "showlegend": false,
         "type": "scatter",
         "x": {
          "bdata": "cT0K16NwA0AAAAAAAAAEQHsUrkfhegRA9ihcj8L1BEA=",
          "dtype": "f8"
         },
         "y": {
          "bdata": "/v////8/QkBDRERERARCQBARERER0UFA3N3d3d2dQUA=",
          "dtype": "f8"
         }
        },
        {
         "legendgroup": "24603 - Brush-LP",
         "marker": {
          "color": "#00CC96"
         },
         "mode": "markers",
         "name": "24603 - Brush-LP",
         "showlegend": true,
         "type": "scatter",
         "x": {
          "bdata": "hetRuB6FA0AAAAAAAAAEQHsUrkfhegRA9ihcj8L1BEA=",
          "dtype": "f8"
         },
         "y": {
          "bdata": "mpmZmZkZQkAzMzMzM/NBQM3MzMzMzEFAMzMzMzOzQUA=",
          "dtype": "f8"
         }
        },
        {
         "legendgroup": "24603 - Brush-LP",
         "line": {
          "color": "#00CC96",
          "dash": "dot"
         },
         "mode": "lines",
         "name": "24603 - Brush-LP",
         "showlegend": false,
         "type": "scatter",
         "x": {
          "bdata": "hetRuB6FA0AAAAAAAAAEQHsUrkfhegRA9ihcj8L1BEA=",
          "dtype": "f8"
         },
         "y": {
          "bdata": "16NwPQoXQkAUrkfhevRBQFG4HoXr0UFAjsL1KFyvQUA=",
          "dtype": "f8"
         }
        },
        {
         "legendgroup": "24603 - F28P-LP",
         "marker": {
          "color": "#636EFA"
         },
         "mode": "markers",
         "name": "24603 - F28P-LP",
         "showlegend": true,
         "type": "scatter",
         "x": {
          "bdata": "cT0K16NwA0AAAAAAAAAEQHsUrkfhegRA9ihcj8L1BEA=",
          "dtype": "f8"
         },
         "y": {
          "bdata": "zczMzMzMQkDNzMzMzIxCQJqZmZmZWUJAmpmZmZkZQkA=",
          "dtype": "f8"
         }
        },
        {
         "legendgroup": "24603 - F28P-LP",
         "line": {
          "color": "#636EFA",
          "dash": "dot"
         },
         "mode": "lines",
         "name": "24603 - F28P-LP",
         "showlegend": false,
         "type": "scatter",
         "x": {
          "bdata": "cT0K16NwA0AAAAAAAAAEQHsUrkfhegRA9ihcj8L1BEA=",
          "dtype": "f8"
         },
         "y": {
          "bdata": "DHAswj/OQkBNcqdo4YxCQDx0Na7ZVEJAKnbD89EcQkA=",
          "dtype": "f8"
         }
        }
       ],
       "layout": {
        "annotations": [
         {
          "bgcolor": "white",
          "bordercolor": "#EF553B",
          "borderwidth": 1,
          "font": {
           "color": "#EF553B"
          },
          "name": "19316 - Brush-IQC",
          "showarrow": false,
          "text": "19316 - Brush-IQC: y = -4.75x + 46.77",
          "x": 2.5275,
          "y": 34.749999999999986
         },
         {
          "bgcolor": "white",
          "bordercolor": "#00CC96",
          "borderwidth": 1,
          "font": {
           "color": "#00CC96"
          },
          "name": "19316 - Brush-LP",
          "showarrow": false,
          "text": "19316 - Brush-LP: y = -3.33x + 42.63",
          "x": 2.5300000000000002,
          "y": 34.19999999999999
         },
         {
          "bgcolor": "white",
          "bordercolor": "#EF553B",
          "borderwidth": 1,
          "font": {
           "color": "#EF553B"
          },
          "name": "23890 - Brush-IQC",
          "showarrow": false,
          "text": "23890 - Brush-IQC: y = -3.99x + 44.05",
          "x": 2.5275,
          "y": 33.97499999999999
         },
         {
          "bgcolor": "white",
          "bordercolor": "#00CC96",
          "borderwidth": 1,
          "font": {
           "color": "#00CC96"
          },
          "name": "23890 - Brush-LP",
          "showarrow": false,
          "text": "23890 - Brush-LP: y = -5.50x + 47.69",
          "x": 2.5300000000000002,
          "y": 33.77500000000001
         },
         {
          "bgcolor": "white",
          "bordercolor": "#636EFA",
          "borderwidth": 1,
          "font": {
           "color": "#636EFA"
          },
          "name": "23890 - F28P-LP",
          "showarrow": false,
          "text": "23890 - F28P-LP: y = -5.85x + 49.56",
          "x": 2.5275,
          "y": 34.77499999999999
         },
         {
          "bgcolor": "white",
          "bordercolor": "#EF553B",
          "borderwidth": 1,
          "font": {
           "color": "#EF553B"
          },
          "name": "24603 - Brush-IQC",
          "showarrow": false,
          "text": "24603 - Brush-IQC: y = -6.67x + 52.70",
          "x": 2.5275,
          "y": 35.84999999999999
         },
         {
          "bgcolor": "white",
          "bordercolor": "#00CC96",
          "borderwidth": 1,
          "font": {
           "color": "#00CC96"
          },
          "name": "24603 - Brush-LP",
          "showarrow": false,
          "text": "24603 - Brush-LP: y = -4.50x + 47.16",
          "x": 2.5300000000000002,
          "y": 35.77499999999999
         },
         {
          "bgcolor": "white",
          "bordercolor": "#636EFA",
          "borderwidth": 1,
          "font": {
           "color": "#636EFA"
          },
          "name": "24603 - F28P-LP",
          "showarrow": false,
          "text": "24603 - F28P-LP: y = -7.30x + 55.34",
          "x": 2.5275,
          "y": 36.89999999999998
         }
        ],
        "height": 800,
        "template": {
         "data": {
          "bar": [
           {
            "error_x": {
             "color": "#2a3f5f"
            },
            "error_y": {
             "color": "#2a3f5f"
            },
            "marker": {
             "line": {
              "color": "#E5ECF6",
              "width": 0.5
             },
             "pattern": {
              "fillmode": "overlay",
              "size": 10,
              "solidity": 0.2
             }
            },
            "type": "bar"
           }
          ],
          "barpolar": [
           {
            "marker": {
             "line": {
              "color": "#E5ECF6",
              "width": 0.5
             },
             "pattern": {
              "fillmode": "overlay",
              "size": 10,
              "solidity": 0.2
             }
            },
            "type": "barpolar"
           }
          ],
          "carpet": [
           {
            "aaxis": {
             "endlinecolor": "#2a3f5f",
             "gridcolor": "white",
             "linecolor": "white",
             "minorgridcolor": "white",
             "startlinecolor": "#2a3f5f"
            },
            "baxis": {
             "endlinecolor": "#2a3f5f",
             "gridcolor": "white",
             "linecolor": "white",
             "minorgridcolor": "white",
             "startlinecolor": "#2a3f5f"
            },
            "type": "carpet"
           }
          ],
          "choropleth": [
           {
            "colorbar": {
             "outlinewidth": 0,
             "ticks": ""
            },
            "type": "choropleth"
           }
          ],
          "contour": [
           {
            "colorbar": {
             "outlinewidth": 0,
             "ticks": ""
            },
            "colorscale": [
             [
              0,
              "#0d0887"
             ],
             [
              0.1111111111111111,
              "#46039f"
             ],
             [
              0.2222222222222222,
              "#7201a8"
             ],
             [
              0.3333333333333333,
              "#9c179e"
             ],
             [
              0.4444444444444444,
              "#bd3786"
             ],
             [
              0.5555555555555556,
              "#d8576b"
             ],
             [
              0.6666666666666666,
              "#ed7953"
             ],
             [
              0.7777777777777778,
              "#fb9f3a"
             ],
             [
              0.8888888888888888,
              "#fdca26"
             ],
             [
              1,
              "#f0f921"
             ]
            ],
            "type": "contour"
           }
          ],
          "contourcarpet": [
           {
            "colorbar": {
             "outlinewidth": 0,
             "ticks": ""
            },
            "type": "contourcarpet"
           }
          ],
          "heatmap": [
           {
            "colorbar": {
             "outlinewidth": 0,
             "ticks": ""
            },
            "colorscale": [
             [
              0,
              "#0d0887"
             ],
             [
              0.1111111111111111,
              "#46039f"
             ],
             [
              0.2222222222222222,
              "#7201a8"
             ],
             [
              0.3333333333333333,
              "#9c179e"
             ],
             [
              0.4444444444444444,
              "#bd3786"
             ],
             [
              0.5555555555555556,
              "#d8576b"
             ],
             [
              0.6666666666666666,
              "#ed7953"
             ],
             [
              0.7777777777777778,
              "#fb9f3a"
             ],
             [
              0.8888888888888888,
              "#fdca26"
             ],
             [
              1,
              "#f0f921"
             ]
            ],
            "type": "heatmap"
           }
          ],
          "histogram": [
           {
            "marker": {
             "pattern": {
              "fillmode": "overlay",
              "size": 10,
              "solidity": 0.2
             }
            },
            "type": "histogram"
           }
          ],
          "histogram2d": [
           {
            "colorbar": {
             "outlinewidth": 0,
             "ticks": ""
            },
            "colorscale": [
             [
              0,
              "#0d0887"
             ],
             [
              0.1111111111111111,
              "#46039f"
             ],
             [
              0.2222222222222222,
              "#7201a8"
             ],
             [
              0.3333333333333333,
              "#9c179e"
             ],
             [
              0.4444444444444444,
              "#bd3786"
             ],
             [
              0.5555555555555556,
              "#d8576b"
             ],
             [
              0.6666666666666666,
              "#ed7953"
             ],
             [
              0.7777777777777778,
              "#fb9f3a"
             ],
             [
              0.8888888888888888,
              "#fdca26"
             ],
             [
              1,
              "#f0f921"
             ]
            ],
            "type": "histogram2d"
           }
          ],
          "histogram2dcontour": [
           {
            "colorbar": {
             "outlinewidth": 0,
             "ticks": ""
            },
            "colorscale": [
             [
              0,
              "#0d0887"
             ],
             [
              0.1111111111111111,
              "#46039f"
             ],
             [
              0.2222222222222222,
              "#7201a8"
             ],
             [
              0.3333333333333333,
              "#9c179e"
             ],
             [
              0.4444444444444444,
              "#bd3786"
             ],
             [
              0.5555555555555556,
              "#d8576b"
             ],
             [
              0.6666666666666666,
              "#ed7953"
             ],
             [
              0.7777777777777778,
              "#fb9f3a"
             ],
             [
              0.8888888888888888,
              "#fdca26"
             ],
             [
              1,
              "#f0f921"
             ]
            ],
            "type": "histogram2dcontour"
           }
          ],
          "mesh3d": [
           {
            "colorbar": {
             "outlinewidth": 0,
             "ticks": ""
            },
            "type": "mesh3d"
           }
          ],
          "parcoords": [
           {
            "line": {
             "colorbar": {
              "outlinewidth": 0,
              "ticks": ""
             }
            },
            "type": "parcoords"
           }
          ],
          "pie": [
           {
            "automargin": true,
            "type": "pie"
           }
          ],
          "scatter": [
           {
            "fillpattern": {
             "fillmode": "overlay",
             "size": 10,
             "solidity": 0.2
            },
            "type": "scatter"
           }
          ],
          "scatter3d": [
           {
            "line": {
             "colorbar": {
              "outlinewidth": 0,
              "ticks": ""
             }
            },
            "marker": {
             "colorbar": {
              "outlinewidth": 0,
              "ticks": ""
             }
            },
            "type": "scatter3d"
           }
          ],
          "scattercarpet": [
           {
            "marker": {
             "colorbar": {
              "outlinewidth": 0,
              "ticks": ""
             }
            },
            "type": "scattercarpet"
           }
          ],
          "scattergeo": [
           {
            "marker": {
             "colorbar": {
              "outlinewidth": 0,
              "ticks": ""
             }
            },
            "type": "scattergeo"
           }
          ],
          "scattergl": [
           {
            "marker": {
             "colorbar": {
              "outlinewidth": 0,
              "ticks": ""
             }
            },
            "type": "scattergl"
           }
          ],
          "scattermap": [
           {
            "marker": {
             "colorbar": {
              "outlinewidth": 0,
              "ticks": ""
             }
            },
            "type": "scattermap"
           }
          ],
          "scattermapbox": [
           {
            "marker": {
             "colorbar": {
              "outlinewidth": 0,
              "ticks": ""
             }
            },
            "type": "scattermapbox"
           }
          ],
          "scatterpolar": [
           {
            "marker": {
             "colorbar": {
              "outlinewidth": 0,
              "ticks": ""
             }
            },
            "type": "scatterpolar"
           }
          ],
          "scatterpolargl": [
           {
            "marker": {
             "colorbar": {
              "outlinewidth": 0,
              "ticks": ""
             }
            },
            "type": "scatterpolargl"
           }
          ],
          "scatterternary": [
           {
            "marker": {
             "colorbar": {
              "outlinewidth": 0,
              "ticks": ""
             }
            },
            "type": "scatterternary"
           }
          ],
          "surface": [
           {
            "colorbar": {
             "outlinewidth": 0,
             "ticks": ""
            },
            "colorscale": [
             [
              0,
              "#0d0887"
             ],
             [
              0.1111111111111111,
              "#46039f"
             ],
             [
              0.2222222222222222,
              "#7201a8"
             ],
             [
              0.3333333333333333,
              "#9c179e"
             ],
             [
              0.4444444444444444,
              "#bd3786"
             ],
             [
              0.5555555555555556,
              "#d8576b"
             ],
             [
              0.6666666666666666,
              "#ed7953"
             ],
             [
              0.7777777777777778,
              "#fb9f3a"
             ],
             [
              0.8888888888888888,
              "#fdca26"
             ],
             [
              1,
              "#f0f921"
             ]
            ],
            "type": "surface"
           }
          ],
          "table": [
           {
            "cells": {
             "fill": {
              "color": "#EBF0F8"
             },
             "line": {
              "color": "white"
             }
            },
            "header": {
             "fill": {
              "color": "#C8D4E3"
             },
             "line": {
              "color": "white"
             }
            },
            "type": "table"
           }
          ]
         },
         "layout": {
          "annotationdefaults": {
           "arrowcolor": "#2a3f5f",
           "arrowhead": 0,
           "arrowwidth": 1
          },
          "autotypenumbers": "strict",
          "coloraxis": {
           "colorbar": {
            "outlinewidth": 0,
            "ticks": ""
           }
          },
          "colorscale": {
           "diverging": [
            [
             0,
             "#8e0152"
            ],
            [
             0.1,
             "#c51b7d"
            ],
            [
             0.2,
             "#de77ae"
            ],
            [
             0.3,
             "#f1b6da"
            ],
            [
             0.4,
             "#fde0ef"
            ],
            [
             0.5,
             "#f7f7f7"
            ],
            [
             0.6,
             "#e6f5d0"
            ],
            [
             0.7,
             "#b8e186"
            ],
            [
             0.8,
             "#7fbc41"
            ],
            [
             0.9,
             "#4d9221"
            ],
            [
             1,
             "#276419"
            ]
           ],
           "sequential": [
            [
             0,
             "#0d0887"
            ],
            [
             0.1111111111111111,
             "#46039f"
            ],
            [
             0.2222222222222222,
             "#7201a8"
            ],
            [
             0.3333333333333333,
             "#9c179e"
            ],
            [
             0.4444444444444444,
             "#bd3786"
            ],
            [
             0.5555555555555556,
             "#d8576b"
            ],
            [
             0.6666666666666666,
             "#ed7953"
            ],
            [
             0.7777777777777778,
             "#fb9f3a"
            ],
            [
             0.8888888888888888,
             "#fdca26"
            ],
            [
             1,
             "#f0f921"
            ]
           ],
           "sequentialminus": [
            [
             0,
             "#0d0887"
            ],
            [
             0.1111111111111111,
             "#46039f"
            ],
            [
             0.2222222222222222,
             "#7201a8"
            ],
            [
             0.3333333333333333,
             "#9c179e"
            ],
            [
             0.4444444444444444,
             "#bd3786"
            ],
            [
             0.5555555555555556,
             "#d8576b"
            ],
            [
             0.6666666666666666,
             "#ed7953"
            ],
            [
             0.7777777777777778,
             "#fb9f3a"
            ],
            [
             0.8888888888888888,
             "#fdca26"
            ],
            [
             1,
             "#f0f921"
            ]
           ]
          },
          "colorway": [
           "#636efa",
           "#EF553B",
           "#00cc96",
           "#ab63fa",
           "#FFA15A",
           "#19d3f3",
           "#FF6692",
           "#B6E880",
           "#FF97FF",
           "#FECB52"
          ],
          "font": {
           "color": "#2a3f5f"
          },
          "geo": {
           "bgcolor": "white",
           "lakecolor": "white",
           "landcolor": "#E5ECF6",
           "showlakes": true,
           "showland": true,
           "subunitcolor": "white"
          },
          "hoverlabel": {
           "align": "left"
          },
          "hovermode": "closest",
          "mapbox": {
           "style": "light"
          },
          "paper_bgcolor": "white",
          "plot_bgcolor": "#E5ECF6",
          "polar": {
           "angularaxis": {
            "gridcolor": "white",
            "linecolor": "white",
            "ticks": ""
           },
           "bgcolor": "#E5ECF6",
           "radialaxis": {
            "gridcolor": "white",
            "linecolor": "white",
            "ticks": ""
           }
          },
          "scene": {
           "xaxis": {
            "backgroundcolor": "#E5ECF6",
            "gridcolor": "white",
            "gridwidth": 2,
            "linecolor": "white",
            "showbackground": true,
            "ticks": "",
            "zerolinecolor": "white"
           },
           "yaxis": {
            "backgroundcolor": "#E5ECF6",
            "gridcolor": "white",
            "gridwidth": 2,
            "linecolor": "white",
            "showbackground": true,
            "ticks": "",
            "zerolinecolor": "white"
           },
           "zaxis": {
            "backgroundcolor": "#E5ECF6",
            "gridcolor": "white",
            "gridwidth": 2,
            "linecolor": "white",
            "showbackground": true,
            "ticks": "",
            "zerolinecolor": "white"
           }
          },
          "shapedefaults": {
           "line": {
            "color": "#2a3f5f"
           }
          },
          "ternary": {
           "aaxis": {
            "gridcolor": "white",
            "linecolor": "white",
            "ticks": ""
           },
           "baxis": {
            "gridcolor": "white",
            "linecolor": "white",
            "ticks": ""
           },
           "bgcolor": "#E5ECF6",
           "caxis": {
            "gridcolor": "white",
            "linecolor": "white",
            "ticks": ""
           }
          },
          "title": {
           "x": 0.05
          },
          "xaxis": {
           "automargin": true,
           "gridcolor": "white",
           "linecolor": "white",
           "ticks": "",
           "title": {
            "standoff": 15
           },
           "zerolinecolor": "white",
           "zerolinewidth": 2
          },
          "yaxis": {
           "automargin": true,
           "gridcolor": "white",
           "linecolor": "white",
           "ticks": "",
           "title": {
            "standoff": 15
           },
           "zerolinecolor": "white",
           "zerolinewidth": 2
          }
         }
        },
        "title": {
         "text": "Linear Fit of Power vs Height by SN and Type"
        },
        "xaxis": {
         "range": [
          2.4,
          2.65
         ],
         "title": {
          "text": "Height (in)"
         }
        },
        "yaxis": {
         "range": [
          32,
          38
         ],
         "title": {
          "text": "Power (W)"
         }
        }
       }
      }
     },
     "metadata": {},
     "output_type": "display_data"
    },
    {
     "name": "stdout",
     "output_type": "stream",
     "text": [
      "19316 - Brush-IQC: y = -4.7547x + 46.7675\n",
      "19316 - Brush-LP: y = -3.3333x + 42.6333\n",
      "23890 - Brush-IQC: y = -3.9874x + 44.0532\n",
      "23890 - Brush-LP: y = -5.5000x + 47.6900\n",
      "23890 - F28P-LP: y = -5.8491x + 49.5585\n",
      "24603 - Brush-IQC: y = -6.6667x + 52.7000\n",
      "24603 - Brush-LP: y = -4.5000x + 47.1600\n",
      "24603 - F28P-LP: y = -7.2956x + 55.3396\n"
     ]
    }
   ],
   "source": [
    "import pandas as pd\n",
    "import numpy as np\n",
    "import plotly.graph_objects as go\n",
    "import plotly.express as px\n",
    "\n",
    "# Load your CSV file\n",
    "df = pd.read_csv(r'C:\\work_folder\\RFB2\\Catheter_testing\\LP_IQC_comparison.csv')  # Replace with your actual file path\n",
    "\n",
    "# Create a color map for each unique Type\n",
    "unique_types = df['Type'].unique()\n",
    "color_map = {type_: color for type_, color in zip(unique_types, px.colors.qualitative.Plotly)}\n",
    "\n",
    "# Create a Plotly figure\n",
    "fig = go.Figure()\n",
    "\n",
    "# Store fit parameters\n",
    "fit_parameters = []\n",
    "\n",
    "# Group data by SN and Type\n",
    "grouped = df.groupby(['SN', 'Type'])\n",
    "\n",
    "# Iterate through each group and plot\n",
    "for (sn, type_), group in grouped:\n",
    "    x = group['Ht']\n",
    "    y = group['Power']\n",
    "\n",
    "    # Linear regression\n",
    "    slope, intercept = np.polyfit(x, y, 1)\n",
    "    fit_line = slope * x + intercept\n",
    "\n",
    "    # Store fit parameters\n",
    "    fit_parameters.append(f\"{sn} - {type_}: y = {slope:.4f}x + {intercept:.4f}\")\n",
    "\n",
    "    # Create a unique legend group\n",
    "    legend_group = f'{sn} - {type_}'\n",
    "    color = color_map[type_]\n",
    "\n",
    "    # Scatter points\n",
    "    fig.add_trace(go.Scatter(\n",
    "        x=x, y=y,\n",
    "        mode='markers',\n",
    "        name=legend_group,\n",
    "        marker=dict(color=color),\n",
    "        legendgroup=legend_group,\n",
    "        showlegend=True\n",
    "    ))\n",
    "\n",
    "    # Fitted line\n",
    "    fig.add_trace(go.Scatter(\n",
    "        x=x, y=fit_line,\n",
    "        mode='lines',\n",
    "        name=legend_group,\n",
    "        line=dict(color=color, dash='dot'),\n",
    "        legendgroup=legend_group,\n",
    "        showlegend=False  # Avoid duplicate legend entry\n",
    "    ))\n",
    "    # Annotate fit parameters on the plot\n",
    "    annotation_text = f\"{legend_group}: y = {slope:.2f}x + {intercept:.2f}\"\n",
    "    fig.add_annotation(\n",
    "        x=x.mean(),\n",
    "        y=fit_line.mean(),\n",
    "        text=annotation_text,\n",
    "        name=legend_group,\n",
    "        showarrow=False,\n",
    "        font=dict(color=color),\n",
    "        bgcolor='white',\n",
    "        bordercolor=color,\n",
    "        borderwidth=1\n",
    "    )\n",
    "\n",
    "\n",
    "# Layout settings\n",
    "fig.update_layout(\n",
    "    title='Linear Fit of Power vs Height by SN and Type',\n",
    "    xaxis_title='Height (in)',\n",
    "    yaxis_title='Power (W)',\n",
    "    height=800,\n",
    "    xaxis=dict(range=[2.4, 2.65]),\n",
    "    yaxis=dict(range=[32, 38])\n",
    "\n",
    ")\n",
    "\n",
    "fig.show()\n",
    "\n",
    "# Print fit parameters\n",
    "for param in fit_parameters:\n",
    "    print(param)\n"
   ]
  },
  {
   "cell_type": "code",
   "execution_count": null,
   "id": "d3e3fa11",
   "metadata": {},
   "outputs": [],
   "source": []
  }
 ],
 "metadata": {
  "kernelspec": {
   "display_name": "SB_Ops",
   "language": "python",
   "name": "python3"
  },
  "language_info": {
   "codemirror_mode": {
    "name": "ipython",
    "version": 3
   },
   "file_extension": ".py",
   "mimetype": "text/x-python",
   "name": "python",
   "nbconvert_exporter": "python",
   "pygments_lexer": "ipython3",
   "version": "3.12.9"
  }
 },
 "nbformat": 4,
 "nbformat_minor": 5
}
